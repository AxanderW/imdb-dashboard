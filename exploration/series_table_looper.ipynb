{
 "cells": [
  {
   "cell_type": "code",
   "execution_count": 3,
   "metadata": {},
   "outputs": [],
   "source": [
    "import json\n",
    "import pandas as pd\n",
    "import datetime as dt\n",
    "from imdb import IMDb\n",
    "from imdb import helpers\n",
    "ia = IMDb()"
   ]
  },
  {
   "cell_type": "code",
   "execution_count": 4,
   "metadata": {},
   "outputs": [],
   "source": [
    "rick_n_morty = '2861424'\n",
    "ren_n_stimpy = '0101178'\n",
    "beevis_n_butthead = '0105950'\n",
    "aeon_flux = '0111873' # in case of re search copy Æon Flux\n",
    "celeb_deathmatch = '0208614'\n",
    "daria = '0118298'\n",
    "south_park = '0121955'\n",
    "fam_guy = '0182576'\n",
    "american_dad = '0397306'\n",
    "king_hill = '0118375'\n",
    "space_ghost = '0108937'\n",
    "futurama = '0149460'\n",
    "aqua_thf = '0297494'\n",
    "archer = '1486217'\n",
    "boondocks = '0373732'\n",
    "metalocalypse = '0839188'\n",
    "robot_chick = '0437745'\n",
    "squidbillies = '0457146'\n",
    "super_jail = '1031283'\n",
    "big_mouth = '6524350'\n",
    "bobs_burg = '1561755'\n",
    "bojack = '3398228'\n",
    "mr_pickles = '2950342'\n",
    "venture = '0417373'\n",
    "simpsons = '0096697'\n",
    "spawn = '0118475'"
   ]
  },
  {
   "cell_type": "code",
   "execution_count": 5,
   "metadata": {},
   "outputs": [],
   "source": [
    "# Search for titles\n",
    "s_result = ia.search_movie('Enter title hear')"
   ]
  },
  {
   "cell_type": "code",
   "execution_count": 6,
   "metadata": {},
   "outputs": [
    {
     "data": {
      "text/plain": [
       "['2861424',\n",
       " '0101178',\n",
       " '0105950',\n",
       " '0111873',\n",
       " '0208614',\n",
       " '0118298',\n",
       " '0121955',\n",
       " '0182576',\n",
       " '0397306',\n",
       " '0118375',\n",
       " '0108937',\n",
       " '0149460',\n",
       " '0297494',\n",
       " '1486217',\n",
       " '0373732',\n",
       " '0839188',\n",
       " '0437745',\n",
       " '0457146',\n",
       " '1031283',\n",
       " '6524350',\n",
       " '1561755',\n",
       " '3398228',\n",
       " '2950342',\n",
       " '0417373',\n",
       " '0096697',\n",
       " '0118475']"
      ]
     },
     "execution_count": 6,
     "metadata": {},
     "output_type": "execute_result"
    }
   ],
   "source": [
    "# Establish object containing titles. \n",
    "curr_titles = ([rick_n_morty,ren_n_stimpy,beevis_n_butthead,aeon_flux,celeb_deathmatch,daria,\n",
    "                south_park,fam_guy,american_dad,king_hill,space_ghost,futurama,aqua_thf,archer,\n",
    "                boondocks,metalocalypse,robot_chick,squidbillies,super_jail,big_mouth,bobs_burg,\n",
    "                bojack,mr_pickles,venture,simpsons,spawn])\n",
    "curr_titles"
   ]
  },
  {
   "cell_type": "code",
   "execution_count": 7,
   "metadata": {},
   "outputs": [],
   "source": [
    "series = ia.get_movie('0101178')"
   ]
  },
  {
   "cell_type": "code",
   "execution_count": 34,
   "metadata": {},
   "outputs": [
    {
     "data": {
      "text/plain": [
       "['Animation', 'Comedy']"
      ]
     },
     "execution_count": 34,
     "metadata": {},
     "output_type": "execute_result"
    }
   ],
   "source": [
    "series['genres']"
   ]
  },
  {
   "cell_type": "code",
   "execution_count": 29,
   "metadata": {},
   "outputs": [
    {
     "ename": "AttributeError",
     "evalue": "'function' object has no attribute 'keys'",
     "output_type": "error",
     "traceback": [
      "\u001b[1;31m---------------------------------------------------------------------------\u001b[0m",
      "\u001b[1;31mAttributeError\u001b[0m                            Traceback (most recent call last)",
      "\u001b[1;32m<ipython-input-29-1c3afec04f88>\u001b[0m in \u001b[0;36m<module>\u001b[1;34m()\u001b[0m\n\u001b[0;32m      1\u001b[0m \u001b[0msort_series\u001b[0m \u001b[1;33m=\u001b[0m \u001b[0mhelpers\u001b[0m\u001b[1;33m.\u001b[0m\u001b[0mmakeObject2Txt\u001b[0m\u001b[1;33m(\u001b[0m\u001b[0mseries\u001b[0m\u001b[1;33m)\u001b[0m\u001b[1;33m\u001b[0m\u001b[0m\n\u001b[1;32m----> 2\u001b[1;33m \u001b[0msort_series\u001b[0m\u001b[1;33m.\u001b[0m\u001b[0mkeys\u001b[0m\u001b[1;33m(\u001b[0m\u001b[1;33m)\u001b[0m\u001b[1;33m\u001b[0m\u001b[0m\n\u001b[0m",
      "\u001b[1;31mAttributeError\u001b[0m: 'function' object has no attribute 'keys'"
     ]
    }
   ],
   "source": [
    "sort_series = helpers.makeObject2Txt(series)\n",
    "sort_series"
   ]
  },
  {
   "cell_type": "code",
   "execution_count": 21,
   "metadata": {},
   "outputs": [
    {
     "name": "stdout",
     "output_type": "stream",
     "text": [
      "[]\n"
     ]
    }
   ],
   "source": [
    "plot = []\n",
    "for i in sort_series:\n",
    "    try:\n",
    "        l_plot = i['rating']\n",
    "    except KeyError:\n",
    "        l_plot = None\n",
    "    plot.append(l_plot)\n",
    "print(plot)"
   ]
  },
  {
   "cell_type": "code",
   "execution_count": null,
   "metadata": {},
   "outputs": [],
   "source": []
  },
  {
   "cell_type": "code",
   "execution_count": null,
   "metadata": {},
   "outputs": [],
   "source": []
  }
 ],
 "metadata": {
  "kernelspec": {
   "display_name": "Python 3",
   "language": "python",
   "name": "python3"
  },
  "language_info": {
   "codemirror_mode": {
    "name": "ipython",
    "version": 3
   },
   "file_extension": ".py",
   "mimetype": "text/x-python",
   "name": "python",
   "nbconvert_exporter": "python",
   "pygments_lexer": "ipython3",
   "version": "3.6.5"
  }
 },
 "nbformat": 4,
 "nbformat_minor": 2
}
