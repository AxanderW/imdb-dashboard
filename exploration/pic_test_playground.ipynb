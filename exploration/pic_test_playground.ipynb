{
 "cells": [
  {
   "cell_type": "code",
   "execution_count": 20,
   "metadata": {},
   "outputs": [],
   "source": [
    "import json\n",
    "import pandas as pd\n",
    "import datetime as dt\n",
    "from imdb import IMDb\n",
    "from imdb import helpers\n",
    "ia = IMDb()"
   ]
  },
  {
   "cell_type": "code",
   "execution_count": 21,
   "metadata": {},
   "outputs": [],
   "source": [
    "rick_n_morty = '2861424'\n",
    "ren_n_stimpy = '0101178'\n",
    "beevis_n_butthead = '0105950'\n",
    "aeon_flux = '0111873' # in case of re search copy Æon Flux\n",
    "celeb_deathmatch = '0208614'\n",
    "daria = '0118298'\n",
    "south_park = '0121955'\n",
    "fam_guy = '0182576'\n",
    "american_dad = '0397306'\n",
    "king_hill = '0118375'\n",
    "space_ghost = '0108937'\n",
    "futurama = '0149460'\n",
    "aqua_thf = '0297494'\n",
    "archer = '1486217'\n",
    "boondocks = '0373732'\n",
    "metalocalypse = '0839188'\n",
    "robot_chick = '0437745'\n",
    "squidbillies = '0457146'\n",
    "super_jail = '1031283'\n",
    "big_mouth = '6524350'\n",
    "bobs_burg = '1561755'\n",
    "bojack = '3398228'\n",
    "mr_pickles = '2950342'\n",
    "venture = '0417373'\n",
    "simpsons = '0096697'\n",
    "spawn = '4641774'"
   ]
  },
  {
   "cell_type": "code",
   "execution_count": 22,
   "metadata": {},
   "outputs": [],
   "source": [
    "curr_titles = ([rick_n_morty,beevis_n_butthead,aeon_flux,celeb_deathmatch,daria,\n",
    "                south_park,fam_guy,american_dad,king_hill,space_ghost,futurama,aqua_thf,archer,\n",
    "                boondocks,metalocalypse,robot_chick,squidbillies,super_jail,big_mouth,bobs_burg,\n",
    "                bojack,mr_pickles,venture,simpsons,spawn])"
   ]
  },
  {
   "cell_type": "code",
   "execution_count": 23,
   "metadata": {},
   "outputs": [
    {
     "name": "stderr",
     "output_type": "stream",
     "text": [
      "2019-02-03 21:55:24,495 CRITICAL [imdbpy] C:\\Users\\misir\\Anaconda3\\lib\\site-packages\\imdb\\_exceptions.py:34: IMDbDataAccessError exception raised; args: ({'errcode': None, 'errmsg': 'None', 'url': 'http://www.imdb.com/title/tt0000000/reference', 'proxy': '', 'exception type': 'IOError', 'original exception': <HTTPError 404: 'Not Found'>},); kwds: {}\n",
      "Traceback (most recent call last):\n",
      "  File \"C:\\Users\\misir\\Anaconda3\\lib\\site-packages\\imdb\\parser\\http\\__init__.py\", line 231, in retrieve_unicode\n",
      "    response = uopener.open(url)\n",
      "  File \"C:\\Users\\misir\\Anaconda3\\lib\\urllib\\request.py\", line 532, in open\n",
      "    response = meth(req, response)\n",
      "  File \"C:\\Users\\misir\\Anaconda3\\lib\\urllib\\request.py\", line 642, in http_response\n",
      "    'http', request, response, code, msg, hdrs)\n",
      "  File \"C:\\Users\\misir\\Anaconda3\\lib\\urllib\\request.py\", line 564, in error\n",
      "    result = self._call_chain(*args)\n",
      "  File \"C:\\Users\\misir\\Anaconda3\\lib\\urllib\\request.py\", line 504, in _call_chain\n",
      "    result = func(*args)\n",
      "  File \"C:\\Users\\misir\\Anaconda3\\lib\\urllib\\request.py\", line 756, in http_error_302\n",
      "    return self.parent.open(new, timeout=req.timeout)\n",
      "  File \"C:\\Users\\misir\\Anaconda3\\lib\\urllib\\request.py\", line 532, in open\n",
      "    response = meth(req, response)\n",
      "  File \"C:\\Users\\misir\\Anaconda3\\lib\\urllib\\request.py\", line 642, in http_response\n",
      "    'http', request, response, code, msg, hdrs)\n",
      "  File \"C:\\Users\\misir\\Anaconda3\\lib\\urllib\\request.py\", line 570, in error\n",
      "    return self._call_chain(*args)\n",
      "  File \"C:\\Users\\misir\\Anaconda3\\lib\\urllib\\request.py\", line 504, in _call_chain\n",
      "    result = func(*args)\n",
      "  File \"C:\\Users\\misir\\Anaconda3\\lib\\urllib\\request.py\", line 650, in http_error_default\n",
      "    raise HTTPError(req.full_url, code, msg, hdrs, fp)\n",
      "urllib.error.HTTPError: HTTP Error 404: Not Found\n",
      "2019-02-03 21:55:24,496 CRITICAL [imdbpy] C:\\Users\\misir\\Anaconda3\\lib\\site-packages\\imdb\\__init__.py:714: caught an exception retrieving or parsing \"main\" info set for mopID \"0000000\" (accessSystem: http)\n",
      "Traceback (most recent call last):\n",
      "  File \"C:\\Users\\misir\\Anaconda3\\lib\\site-packages\\imdb\\parser\\http\\__init__.py\", line 231, in retrieve_unicode\n",
      "    response = uopener.open(url)\n",
      "  File \"C:\\Users\\misir\\Anaconda3\\lib\\urllib\\request.py\", line 532, in open\n",
      "    response = meth(req, response)\n",
      "  File \"C:\\Users\\misir\\Anaconda3\\lib\\urllib\\request.py\", line 642, in http_response\n",
      "    'http', request, response, code, msg, hdrs)\n",
      "  File \"C:\\Users\\misir\\Anaconda3\\lib\\urllib\\request.py\", line 564, in error\n",
      "    result = self._call_chain(*args)\n",
      "  File \"C:\\Users\\misir\\Anaconda3\\lib\\urllib\\request.py\", line 504, in _call_chain\n",
      "    result = func(*args)\n",
      "  File \"C:\\Users\\misir\\Anaconda3\\lib\\urllib\\request.py\", line 756, in http_error_302\n",
      "    return self.parent.open(new, timeout=req.timeout)\n",
      "  File \"C:\\Users\\misir\\Anaconda3\\lib\\urllib\\request.py\", line 532, in open\n",
      "    response = meth(req, response)\n",
      "  File \"C:\\Users\\misir\\Anaconda3\\lib\\urllib\\request.py\", line 642, in http_response\n",
      "    'http', request, response, code, msg, hdrs)\n",
      "  File \"C:\\Users\\misir\\Anaconda3\\lib\\urllib\\request.py\", line 570, in error\n",
      "    return self._call_chain(*args)\n",
      "  File \"C:\\Users\\misir\\Anaconda3\\lib\\urllib\\request.py\", line 504, in _call_chain\n",
      "    result = func(*args)\n",
      "  File \"C:\\Users\\misir\\Anaconda3\\lib\\urllib\\request.py\", line 650, in http_error_default\n",
      "    raise HTTPError(req.full_url, code, msg, hdrs, fp)\n",
      "urllib.error.HTTPError: HTTP Error 404: Not Found\n",
      "\n",
      "During handling of the above exception, another exception occurred:\n",
      "\n",
      "Traceback (most recent call last):\n",
      "  File \"C:\\Users\\misir\\Anaconda3\\lib\\site-packages\\imdb\\__init__.py\", line 709, in update\n",
      "    ret = method(mopID)\n",
      "  File \"C:\\Users\\misir\\Anaconda3\\lib\\site-packages\\imdb\\parser\\http\\__init__.py\", line 446, in get_movie_main\n",
      "    cont = self._retrieve(self.urls['movie_main'] % movieID + 'reference')\n",
      "  File \"C:\\Users\\misir\\Anaconda3\\lib\\site-packages\\imdb\\parser\\http\\__init__.py\", line 406, in _retrieve\n",
      "    ret = self.urlOpener.retrieve_unicode(url, size=size)\n",
      "  File \"C:\\Users\\misir\\Anaconda3\\lib\\site-packages\\imdb\\parser\\http\\__init__.py\", line 265, in retrieve_unicode\n",
      "    'original exception': e}\n",
      "imdb._exceptions.IMDbDataAccessError: {'errcode': None, 'errmsg': 'None', 'url': 'http://www.imdb.com/title/tt0000000/reference', 'proxy': '', 'exception type': 'IOError', 'original exception': <HTTPError 404: 'Not Found'>}\n",
      "2019-02-03 21:55:24,733 CRITICAL [imdbpy] C:\\Users\\misir\\Anaconda3\\lib\\site-packages\\imdb\\_exceptions.py:34: IMDbDataAccessError exception raised; args: ({'errcode': None, 'errmsg': 'None', 'url': 'http://www.imdb.com/title/tt0000000/plotsummary', 'proxy': '', 'exception type': 'IOError', 'original exception': <HTTPError 404: 'Not Found'>},); kwds: {}\n",
      "Traceback (most recent call last):\n",
      "  File \"C:\\Users\\misir\\Anaconda3\\lib\\site-packages\\imdb\\parser\\http\\__init__.py\", line 231, in retrieve_unicode\n",
      "    response = uopener.open(url)\n",
      "  File \"C:\\Users\\misir\\Anaconda3\\lib\\urllib\\request.py\", line 532, in open\n",
      "    response = meth(req, response)\n",
      "  File \"C:\\Users\\misir\\Anaconda3\\lib\\urllib\\request.py\", line 642, in http_response\n",
      "    'http', request, response, code, msg, hdrs)\n",
      "  File \"C:\\Users\\misir\\Anaconda3\\lib\\urllib\\request.py\", line 564, in error\n",
      "    result = self._call_chain(*args)\n",
      "  File \"C:\\Users\\misir\\Anaconda3\\lib\\urllib\\request.py\", line 504, in _call_chain\n",
      "    result = func(*args)\n",
      "  File \"C:\\Users\\misir\\Anaconda3\\lib\\urllib\\request.py\", line 756, in http_error_302\n",
      "    return self.parent.open(new, timeout=req.timeout)\n",
      "  File \"C:\\Users\\misir\\Anaconda3\\lib\\urllib\\request.py\", line 532, in open\n",
      "    response = meth(req, response)\n",
      "  File \"C:\\Users\\misir\\Anaconda3\\lib\\urllib\\request.py\", line 642, in http_response\n",
      "    'http', request, response, code, msg, hdrs)\n",
      "  File \"C:\\Users\\misir\\Anaconda3\\lib\\urllib\\request.py\", line 570, in error\n",
      "    return self._call_chain(*args)\n",
      "  File \"C:\\Users\\misir\\Anaconda3\\lib\\urllib\\request.py\", line 504, in _call_chain\n",
      "    result = func(*args)\n",
      "  File \"C:\\Users\\misir\\Anaconda3\\lib\\urllib\\request.py\", line 650, in http_error_default\n",
      "    raise HTTPError(req.full_url, code, msg, hdrs, fp)\n",
      "urllib.error.HTTPError: HTTP Error 404: Not Found\n",
      "2019-02-03 21:55:24,736 CRITICAL [imdbpy] C:\\Users\\misir\\Anaconda3\\lib\\site-packages\\imdb\\__init__.py:714: caught an exception retrieving or parsing \"plot\" info set for mopID \"0000000\" (accessSystem: http)\n",
      "Traceback (most recent call last):\n",
      "  File \"C:\\Users\\misir\\Anaconda3\\lib\\site-packages\\imdb\\parser\\http\\__init__.py\", line 231, in retrieve_unicode\n",
      "    response = uopener.open(url)\n",
      "  File \"C:\\Users\\misir\\Anaconda3\\lib\\urllib\\request.py\", line 532, in open\n",
      "    response = meth(req, response)\n",
      "  File \"C:\\Users\\misir\\Anaconda3\\lib\\urllib\\request.py\", line 642, in http_response\n",
      "    'http', request, response, code, msg, hdrs)\n",
      "  File \"C:\\Users\\misir\\Anaconda3\\lib\\urllib\\request.py\", line 564, in error\n",
      "    result = self._call_chain(*args)\n",
      "  File \"C:\\Users\\misir\\Anaconda3\\lib\\urllib\\request.py\", line 504, in _call_chain\n",
      "    result = func(*args)\n",
      "  File \"C:\\Users\\misir\\Anaconda3\\lib\\urllib\\request.py\", line 756, in http_error_302\n",
      "    return self.parent.open(new, timeout=req.timeout)\n",
      "  File \"C:\\Users\\misir\\Anaconda3\\lib\\urllib\\request.py\", line 532, in open\n",
      "    response = meth(req, response)\n",
      "  File \"C:\\Users\\misir\\Anaconda3\\lib\\urllib\\request.py\", line 642, in http_response\n",
      "    'http', request, response, code, msg, hdrs)\n",
      "  File \"C:\\Users\\misir\\Anaconda3\\lib\\urllib\\request.py\", line 570, in error\n",
      "    return self._call_chain(*args)\n",
      "  File \"C:\\Users\\misir\\Anaconda3\\lib\\urllib\\request.py\", line 504, in _call_chain\n",
      "    result = func(*args)\n",
      "  File \"C:\\Users\\misir\\Anaconda3\\lib\\urllib\\request.py\", line 650, in http_error_default\n",
      "    raise HTTPError(req.full_url, code, msg, hdrs, fp)\n",
      "urllib.error.HTTPError: HTTP Error 404: Not Found\n",
      "\n",
      "During handling of the above exception, another exception occurred:\n",
      "\n",
      "Traceback (most recent call last):\n",
      "  File \"C:\\Users\\misir\\Anaconda3\\lib\\site-packages\\imdb\\__init__.py\", line 709, in update\n",
      "    ret = method(mopID)\n",
      "  File \"C:\\Users\\misir\\Anaconda3\\lib\\site-packages\\imdb\\parser\\http\\__init__.py\", line 454, in get_movie_plot\n",
      "    cont = self._retrieve(self.urls['movie_main'] % movieID + 'plotsummary')\n",
      "  File \"C:\\Users\\misir\\Anaconda3\\lib\\site-packages\\imdb\\parser\\http\\__init__.py\", line 406, in _retrieve\n",
      "    ret = self.urlOpener.retrieve_unicode(url, size=size)\n",
      "  File \"C:\\Users\\misir\\Anaconda3\\lib\\site-packages\\imdb\\parser\\http\\__init__.py\", line 265, in retrieve_unicode\n",
      "    'original exception': e}\n",
      "imdb._exceptions.IMDbDataAccessError: {'errcode': None, 'errmsg': 'None', 'url': 'http://www.imdb.com/title/tt0000000/plotsummary', 'proxy': '', 'exception type': 'IOError', 'original exception': <HTTPError 404: 'Not Found'>}\n"
     ]
    }
   ],
   "source": [
    "pic_list = []\n",
    "for i in curr_titles:\n",
    "     = ia.get_movie(i)\n",
    "\n"
   ]
  },
  {
   "cell_type": "code",
   "execution_count": 15,
   "metadata": {},
   "outputs": [
    {
     "data": {
      "text/plain": [
       "34"
      ]
     },
     "execution_count": 15,
     "metadata": {},
     "output_type": "execute_result"
    }
   ],
   "source": [
    "len(series)"
   ]
  },
  {
   "cell_type": "code",
   "execution_count": 5,
   "metadata": {},
   "outputs": [],
   "source": [
    "series.keys()\n",
    "pic = series['cover url']"
   ]
  },
  {
   "cell_type": "code",
   "execution_count": 6,
   "metadata": {},
   "outputs": [
    {
     "data": {
      "text/plain": [
       "'https://m.media-amazon.com/images/M/MV5BZGVhMzBmMTUtZjRmNC00NjVkLTk1YmItMDg5NmNkNmY2MGFiXkEyXkFqcGdeQXVyNTAyODkwOQ@@._V1_SY150_CR1,0,101,150_.jpg'"
      ]
     },
     "execution_count": 6,
     "metadata": {},
     "output_type": "execute_result"
    }
   ],
   "source": [
    "pic"
   ]
  },
  {
   "cell_type": "code",
   "execution_count": null,
   "metadata": {},
   "outputs": [],
   "source": []
  }
 ],
 "metadata": {
  "kernelspec": {
   "display_name": "Python 3",
   "language": "python",
   "name": "python3"
  },
  "language_info": {
   "codemirror_mode": {
    "name": "ipython",
    "version": 3
   },
   "file_extension": ".py",
   "mimetype": "text/x-python",
   "name": "python",
   "nbconvert_exporter": "python",
   "pygments_lexer": "ipython3",
   "version": "3.6.5"
  }
 },
 "nbformat": 4,
 "nbformat_minor": 2
}
