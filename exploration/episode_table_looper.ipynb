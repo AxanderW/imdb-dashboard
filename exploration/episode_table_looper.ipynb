{
 "cells": [
  {
   "cell_type": "code",
   "execution_count": 1,
   "metadata": {},
   "outputs": [],
   "source": [
    "import json\n",
    "import pandas as pd\n",
    "import datetime as dt\n",
    "from imdb import IMDb\n",
    "from imdb import helpers\n",
    "ia = IMDb()"
   ]
  },
  {
   "cell_type": "code",
   "execution_count": null,
   "metadata": {},
   "outputs": [],
   "source": [
    "rick_n_morty = '2861424'\n",
    "ren_n_stimpy = '0371475'\n",
    "beevis_n_butthead = '0105950'\n",
    "aeon_flux = '0111873' # in case of re search copy Æon Flux\n",
    "celeb_deathmatch = '0208614'\n",
    "daria = '0118298'\n",
    "south_park = '0121955'\n",
    "fam_guy = '0182576'\n",
    "american_dad = '0397306'\n",
    "king_hill = '0118375'\n",
    "space_ghost = '0108937'\n",
    "futurama = '0149460'\n",
    "aqua_thf = '0297494'\n",
    "archer = '1486217'\n",
    "boondocks = '0373732'\n",
    "metalocalypse = '0839188'\n",
    "robot_chick = '0437745'\n",
    "squidbillies = '0457146'\n",
    "super_jail = '1031283'\n",
    "big_mouth = '6524350'\n",
    "bobs_burg = '1561755'\n",
    "bojack = '3398228'\n",
    "mr_pickles = '2950342'\n",
    "venture = '0417373'\n",
    "simpsons = '0096697'\n",
    "spawn = '4641774'\n",
    "\n",
    "curr_titles = ([rick_n_morty,ren_n_stimpy,beevis_n_butthead,aeon_flux,celeb_deathmatch,daria,\n",
    "                south_park,fam_guy,american_dad,king_hill,space_ghost,futurama,aqua_thf,archer,\n",
    "                boondocks,metalocalypse,robot_chick,squidbillies,super_jail,big_mouth,bobs_burg,\n",
    "                bojack,mr_pickles,venture,simpsons,spawn])\n",
    "curr_titles"
   ]
  },
  {
   "cell_type": "code",
   "execution_count": 36,
   "metadata": {},
   "outputs": [
    {
     "data": {
      "text/plain": [
       "[<Movie id:2861424[http] title:_\"Rick and Morty\" (2013)_>,\n",
       " <Movie id:9049822[http] title:_\"Screen Rant Pitch Meetings\" Rick and Morty (2018)_>,\n",
       " <Movie id:7068176[http] title:_\"Drinking Games with Dan and Veronica\" Rick and Morty (2016)_>,\n",
       " <Movie id:7119072[http] title:_Rick and Morty Strike Again! (2017)_>,\n",
       " <Movie id:6852592[http] title:_Rick and Morty Ruin a Fan Film (2017)_>,\n",
       " <Movie id:5950978[http] title:_Rick and Morty: State of Georgia Vs. Denver Fenton Allen (2016)_>,\n",
       " <Movie id:7149328[http] title:_Rick and Morty Exquisite Corpse (2017) (V)_>,\n",
       " <Movie id:7458930[http] title:_Rick and Morty: Alien Covenant (2017) (V)_>,\n",
       " <Movie id:7408236[http] title:_\"The Philosophy of\" Rick and Morty (2015)_>,\n",
       " <Movie id:8535214[http] title:_\"San Diego Comic-Con 2016\" Rick and Morty (2016)_>,\n",
       " <Movie id:7689546[http] title:_\"Ricking Morty\" (2017)_>,\n",
       " <Movie id:5533172[http] title:_\"The Toonsmyth Clog\" Rick and Morty! PPG 2016! (2014)_>,\n",
       " <Movie id:7003492[http] title:_\"Gaming\" Rick and Morty VR - Part 2 (2017)_>,\n",
       " <Movie id:5195738[http] title:_The Misadventures of Rick and Morty (2015)_>,\n",
       " <Movie id:1184866[http] title:_\"Abroad in Britain\" Brick and Mortars (1990)_>,\n",
       " <Movie id:7414498[http] title:_\"ScreenPrism\" Rick and Morty: Why is Rick Such a Rick? (2017)_>,\n",
       " <Movie id:7851384[http] title:_\"The Damien & Shayne Show\" Rick and Morty Play GTA V! (2017)_>,\n",
       " <Movie id:8657272[http] title:_\"Color Circuit: Ludum Tempus\" Rick and Morty Munchkin (2018)_>,\n",
       " <Movie id:7003902[http] title:_\"Gaming\" Rick and Morty VR - Finale (2017)_>,\n",
       " <Movie id:7159248[http] title:_\"Cartoon Conspiracy\" The Rick and Morty Theory - The Original Morty? (2015)_>]"
      ]
     },
     "execution_count": 36,
     "metadata": {},
     "output_type": "execute_result"
    }
   ],
   "source": [
    "for t in curr_titles:\n",
    "    series = ia.get_movie('2861424')\n",
    "    s_result = ia.search_movie('Rick And Morty')\n",
    "    s_result = "
   ]
  },
  {
   "cell_type": "code",
   "execution_count": 12,
   "metadata": {},
   "outputs": [
    {
     "data": {
      "text/plain": [
       "['cast',\n",
       " 'genres',\n",
       " 'runtimes',\n",
       " 'countries',\n",
       " 'country codes',\n",
       " 'language codes',\n",
       " 'color info',\n",
       " 'aspect ratio',\n",
       " 'sound mix',\n",
       " 'certificates',\n",
       " 'number of seasons',\n",
       " 'rating',\n",
       " 'votes',\n",
       " 'cover url',\n",
       " 'plot outline',\n",
       " 'languages',\n",
       " 'title',\n",
       " 'year',\n",
       " 'kind',\n",
       " 'series years',\n",
       " 'akas',\n",
       " 'seasons',\n",
       " 'writer',\n",
       " 'production companies',\n",
       " 'distributors',\n",
       " 'other companies',\n",
       " 'plot',\n",
       " 'synopsis',\n",
       " 'canonical title',\n",
       " 'long imdb title',\n",
       " 'long imdb canonical title',\n",
       " 'smart canonical title',\n",
       " 'smart long imdb canonical title',\n",
       " 'full-size cover url']"
      ]
     },
     "execution_count": 12,
     "metadata": {},
     "output_type": "execute_result"
    }
   ],
   "source": [
    "series.keys()\n"
   ]
  },
  {
   "cell_type": "code",
   "execution_count": 50,
   "metadata": {},
   "outputs": [],
   "source": [
    "ia.update(series, 'episodes')"
   ]
  },
  {
   "cell_type": "code",
   "execution_count": 67,
   "metadata": {},
   "outputs": [
    {
     "data": {
      "text/plain": [
       "'2169080'"
      ]
     },
     "execution_count": 67,
     "metadata": {},
     "output_type": "execute_result"
    }
   ],
   "source": [
    "episodes = helpers.sortedEpisodes(series)\n",
    "ep1 = episodes[0]\n",
    "ep1.getID()"
   ]
  },
  {
   "cell_type": "code",
   "execution_count": 68,
   "metadata": {},
   "outputs": [],
   "source": [
    "title = []\n",
    "episode_of = []\n",
    "season = []\n",
    "episode = []\n",
    "rating = []\n",
    "votes = []\n",
    "original_air_date = []\n",
    "year = []\n",
    "plot = []\n",
    "series_title = []\n",
    "episode_title = []\n",
    "episode_id = []\n",
    "for i in episodes:\n",
    "    try:\n",
    "        l_title = i['title']\n",
    "    except KeyError:\n",
    "        l_title = None\n",
    "    try:\n",
    "        l_episode_of = i['episode of'].getID()\n",
    "    except KeyError:\n",
    "        l_episode_of = None\n",
    "    try:\n",
    "        l_season = i['season']\n",
    "    except KeyError:\n",
    "        l_season = None \n",
    "    try:\n",
    "        l_episode = i['episode']\n",
    "    except KeyError:\n",
    "        l_episode = None       \n",
    "    try:\n",
    "        l_rating = i['rating']\n",
    "    except KeyError:\n",
    "        l_rating= None \n",
    "    try:\n",
    "        l_votes = i['votes']\n",
    "    except KeyError:\n",
    "        l_votes= None\n",
    "    try:\n",
    "        l_original_air_date = i['original air date']\n",
    "    except KeyError:\n",
    "        l_original_air_date = None \n",
    "    try:\n",
    "        l_year = i['year']\n",
    "    except KeyError:\n",
    "        l_year= None\n",
    "    try:\n",
    "        l_plot = i['plot']\n",
    "    except KeyError:\n",
    "        l_plot= None\n",
    "    try:\n",
    "        l_series_title = i['series title']\n",
    "    except KeyError:\n",
    "        l_series_title= None\n",
    "    try:\n",
    "        l_episode_title = i['episode title']\n",
    "    except KeyError:\n",
    "        l_episode_title = None\n",
    "    try:\n",
    "        l_episode_id = i.getID()\n",
    "    except KeyError:\n",
    "        l_episode_id = None\n",
    "        \n",
    "    title.append(l_title)\n",
    "    episode_of.append(l_episode_of)\n",
    "    season.append(l_season)\n",
    "    episode.append(l_episode)\n",
    "    rating.append(l_rating)\n",
    "    votes.append(l_votes)\n",
    "    original_air_date.append(l_original_air_date)\n",
    "    year.append(l_year)\n",
    "    plot.append(l_plot)\n",
    "    series_title.append(l_series_title)\n",
    "    episode_title.append(l_episode_title)\n",
    "    episode_id.append(l_episode_id)\n",
    "\n"
   ]
  },
  {
   "cell_type": "code",
   "execution_count": 69,
   "metadata": {},
   "outputs": [
    {
     "data": {
      "text/plain": [
       "['2169080',\n",
       " '3333824',\n",
       " '3333828',\n",
       " '3333830',\n",
       " '3333832',\n",
       " '3333834',\n",
       " '3333836',\n",
       " '3333838',\n",
       " '3333840',\n",
       " '3333846',\n",
       " '3333854',\n",
       " '4462494',\n",
       " '4832254',\n",
       " '4832260',\n",
       " '4832262',\n",
       " '4832266',\n",
       " '4832268',\n",
       " '4832272',\n",
       " '4832274',\n",
       " '4832276',\n",
       " '4832278',\n",
       " '5218228',\n",
       " '5218256',\n",
       " '5218268',\n",
       " '5218288',\n",
       " '5218310',\n",
       " '5218318',\n",
       " '5218332',\n",
       " '5218350',\n",
       " '5218370',\n",
       " '5218386',\n",
       " '7446798']"
      ]
     },
     "execution_count": 69,
     "metadata": {},
     "output_type": "execute_result"
    }
   ],
   "source": [
    "episode_id"
   ]
  },
  {
   "cell_type": "code",
   "execution_count": 75,
   "metadata": {},
   "outputs": [
    {
     "ename": "NameError",
     "evalue": "name 'test' is not defined",
     "output_type": "error",
     "traceback": [
      "\u001b[1;31m---------------------------------------------------------------------------\u001b[0m",
      "\u001b[1;31mNameError\u001b[0m                                 Traceback (most recent call last)",
      "\u001b[1;32m<ipython-input-75-a0803a29ca65>\u001b[0m in \u001b[0;36m<module>\u001b[1;34m()\u001b[0m\n\u001b[0;32m     13\u001b[0m                        })\n\u001b[0;32m     14\u001b[0m \u001b[0mtest_df\u001b[0m\u001b[1;33m.\u001b[0m\u001b[0mhead\u001b[0m\u001b[1;33m(\u001b[0m\u001b[1;33m)\u001b[0m\u001b[1;33m\u001b[0m\u001b[0m\n\u001b[1;32m---> 15\u001b[1;33m \u001b[0mtest_df\u001b[0m\u001b[1;33m.\u001b[0m\u001b[0mto_csv\u001b[0m\u001b[1;33m(\u001b[0m\u001b[0mtest\u001b[0m\u001b[1;33m)\u001b[0m\u001b[1;33m\u001b[0m\u001b[0m\n\u001b[0m",
      "\u001b[1;31mNameError\u001b[0m: name 'test' is not defined"
     ]
    }
   ],
   "source": [
    "test_df = pd.DataFrame({'title': title,\n",
    "                        'series_id': episode_of,\n",
    "                        'episode_id': episode_id,\n",
    "                        'season': season,\n",
    "                        'episode': episode,\n",
    "                        'rating': rating,\n",
    "                        'votes': votes,\n",
    "                        'original_air_date': original_air_date,\n",
    "                        'year': year,\n",
    "                        'plot': plot,\n",
    "                        'series_title': series_title,\n",
    "                        'episode_title': episode_title\n",
    "                       })\n",
    "test_df.head()\n",
    "test_df.to_csv()"
   ]
  },
  {
   "cell_type": "code",
   "execution_count": 41,
   "metadata": {},
   "outputs": [
    {
     "name": "stdout",
     "output_type": "stream",
     "text": [
      "title: Pilot\n",
      "kind: episode\n",
      "episode of: Rick and Morty (TV Series 2013– )\n",
      "season: 1\n",
      "episode: 1\n",
      "rating: 8.0\n",
      "votes: 7582\n",
      "original air date: 2 Dec. 2013\n",
      "year: 2013\n",
      "plot: \n",
      "    A sociopathic scientist drags his innocent grandson on dangerous inter-dimensional adventures.    \n",
      "canonical title: Pilot\n",
      "long imdb title: \"Rick and Morty (TV Series 2013– )\" Pilot (2013)\n",
      "long imdb canonical title: \"Rick and Morty (TV Series 2013– )\" Pilot (2013)\n",
      "smart canonical title: Pilot\n",
      "smart long imdb canonical title: \"Rick and Morty (TV Series 2013– )\" Pilot (2013)\n",
      "long imdb episode title: \"Rick and Morty (TV Series 2013– )\" Pilot (2013)\n",
      "series title: Rick and Morty (TV Series 2013– )\n",
      "canonical series title: Rick and Morty (TV Series 2013– )\n",
      "episode title: Pilot\n",
      "canonical episode title: Pilot\n",
      "smart canonical series title: Rick and Morty (TV Series 2013– )\n",
      "smart canonical episode title: Pilot\n"
     ]
    }
   ],
   "source": [
    "keys = ep1.keys()\n",
    "for k in keys:\n",
    "    print(f\"{k}: {ep1[k]}\")"
   ]
  },
  {
   "cell_type": "code",
   "execution_count": 46,
   "metadata": {},
   "outputs": [
    {
     "data": {
      "text/plain": [
       "'2169080'"
      ]
     },
     "execution_count": 46,
     "metadata": {},
     "output_type": "execute_result"
    }
   ],
   "source": [
    "ep1.getID()"
   ]
  },
  {
   "cell_type": "code",
   "execution_count": null,
   "metadata": {},
   "outputs": [],
   "source": []
  },
  {
   "cell_type": "code",
   "execution_count": null,
   "metadata": {},
   "outputs": [],
   "source": []
  },
  {
   "cell_type": "code",
   "execution_count": null,
   "metadata": {},
   "outputs": [],
   "source": []
  }
 ],
 "metadata": {
  "kernelspec": {
   "display_name": "Python 3",
   "language": "python",
   "name": "python3"
  },
  "language_info": {
   "codemirror_mode": {
    "name": "ipython",
    "version": 3
   },
   "file_extension": ".py",
   "mimetype": "text/x-python",
   "name": "python",
   "nbconvert_exporter": "python",
   "pygments_lexer": "ipython3",
   "version": "3.6.5"
  }
 },
 "nbformat": 4,
 "nbformat_minor": 2
}
