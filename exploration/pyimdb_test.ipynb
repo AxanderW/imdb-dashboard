{
 "cells": [
  {
   "cell_type": "code",
   "execution_count": 1,
   "metadata": {},
   "outputs": [],
   "source": [
    "import json\n",
    "import pandas as pd\n",
    "import datetime as dt\n",
    "from imdb import IMDb\n",
    "from imdb import helpers\n",
    "ia = IMDb()"
   ]
  },
  {
   "cell_type": "markdown",
   "metadata": {},
   "source": [
    "## User Defined Config"
   ]
  },
  {
   "cell_type": "code",
   "execution_count": 2,
   "metadata": {},
   "outputs": [],
   "source": [
    "# Must be a list of TV series to plot\n",
    "titles = ['0096697', '0182576', '0121955', '2861424']"
   ]
  },
  {
   "cell_type": "markdown",
   "metadata": {},
   "source": [
    "## Extract the Data"
   ]
  },
  {
   "cell_type": "code",
   "execution_count": 3,
   "metadata": {},
   "outputs": [
    {
     "name": "stdout",
     "output_type": "stream",
     "text": [
      "Time elapsed: 0:00:12.242350\n"
     ]
    }
   ],
   "source": [
    "start = dt.datetime.now()\n",
    "series = [ia.get_movie(t) for t in titles]\n",
    "\n",
    "end = dt.datetime.now()\n",
    "print(f'Time elapsed: {end - start}')"
   ]
  },
  {
   "cell_type": "code",
   "execution_count": 4,
   "metadata": {},
   "outputs": [
    {
     "name": "stdout",
     "output_type": "stream",
     "text": [
      "Time elapsed: 0:01:12.535367\n"
     ]
    }
   ],
   "source": [
    "start = dt.datetime.now()\n",
    "for s in series:\n",
    "    ia.update(s, 'episodes')\n",
    "\n",
    "end = dt.datetime.now()\n",
    "print(f'Time elapsed: {end - start}')"
   ]
  },
  {
   "cell_type": "markdown",
   "metadata": {},
   "source": [
    "### Inspect..."
   ]
  },
  {
   "cell_type": "code",
   "execution_count": 5,
   "metadata": {},
   "outputs": [
    {
     "name": "stdout",
     "output_type": "stream",
     "text": [
      "title: Bart the Genius\n",
      "kind: episode\n",
      "episode of: The Simpsons (TV Series 1989– )\n",
      "season: 1\n",
      "episode: 2\n",
      "rating: 7.8\n",
      "votes: 2796\n",
      "original air date: 14 Jan. 1990\n",
      "year: 1990\n",
      "plot: \n",
      "    Bart ends up at a school for gifted children after cheating on an IQ test.    \n",
      "canonical title: Bart the Genius\n",
      "long imdb title: \"The Simpsons (TV Series 1989– )\" Bart the Genius (1990)\n",
      "long imdb canonical title: \"Simpsons (TV Series 1989– ), The\" Bart the Genius (1990)\n",
      "smart canonical title: Bart the Genius\n",
      "smart long imdb canonical title: \"Simpsons (TV Series 1989– ), The\" Bart the Genius (1990)\n",
      "long imdb episode title: \"The Simpsons (TV Series 1989– )\" Bart the Genius (1990)\n",
      "series title: The Simpsons (TV Series 1989– )\n",
      "canonical series title: Simpsons (TV Series 1989– ), The\n",
      "episode title: Bart the Genius\n",
      "canonical episode title: Bart the Genius\n",
      "smart canonical series title: Simpsons (TV Series 1989– ), The\n",
      "smart canonical episode title: Bart the Genius\n"
     ]
    }
   ],
   "source": [
    "# The Simpsons S01E02\n",
    "for k in series[0]['episodes'][1][2].keys():\n",
    "    print(f\"{k}: {series[0]['episodes'][1][2][k]}\")"
   ]
  },
  {
   "cell_type": "code",
   "execution_count": 6,
   "metadata": {},
   "outputs": [
    {
     "name": "stdout",
     "output_type": "stream",
     "text": [
      "title: The Cleveland-Loretta Quagmire\n",
      "kind: episode\n",
      "episode of: Family Guy (TV Series 1998– )\n",
      "season: 4\n",
      "episode: 5\n",
      "rating: 7.6\n",
      "votes: 1102\n",
      "original air date: 12 Jun. 2005\n",
      "year: 2005\n",
      "plot: \n",
      "    Cleveland's wife Loretta has an affair with Quagmire.    \n",
      "canonical title: Cleveland-Loretta Quagmire, The\n",
      "long imdb title: \"Family Guy (TV Series 1998– )\" The Cleveland-Loretta Quagmire (2005)\n",
      "long imdb canonical title: \"Family Guy (TV Series 1998– )\" The Cleveland-Loretta Quagmire (2005)\n",
      "smart canonical title: Cleveland-Loretta Quagmire, The\n",
      "smart long imdb canonical title: \"Family Guy (TV Series 1998– )\" The Cleveland-Loretta Quagmire (2005)\n",
      "long imdb episode title: \"Family Guy (TV Series 1998– )\" The Cleveland-Loretta Quagmire (2005)\n",
      "series title: Family Guy (TV Series 1998– )\n",
      "canonical series title: Family Guy (TV Series 1998– )\n",
      "episode title: The Cleveland-Loretta Quagmire\n",
      "canonical episode title: Cleveland-Loretta Quagmire, The\n",
      "smart canonical series title: Family Guy (TV Series 1998– )\n",
      "smart canonical episode title: Cleveland-Loretta Quagmire, The\n"
     ]
    }
   ],
   "source": [
    "# Family Guy S04E05\n",
    "for k in series[1]['episodes'][4][5].keys():\n",
    "    print(f\"{k}: {series[1]['episodes'][4][5][k]}\")"
   ]
  },
  {
   "cell_type": "code",
   "execution_count": 7,
   "metadata": {},
   "outputs": [
    {
     "name": "stdout",
     "output_type": "stream",
     "text": [
      "problem reading rating: for The Simpsons, I'm Just a Girl Who Can't Say D'oh\n",
      "problem reading rating: for The Simpsons, I'm Dancing as Fat as I Can\n",
      "problem reading rating: for The Simpsons, The Clown Stays in the Picture\n",
      "problem reading rating: for The Simpsons, Episode #30.15\n",
      "problem reading rating: for The Simpsons, Episode #30.16\n",
      "problem reading rating: for The Simpsons, Episode #30.17\n",
      "problem reading rating: for The Simpsons, Episode #30.18\n",
      "problem reading rating: for The Simpsons, Episode #30.19\n",
      "problem reading rating: for The Simpsons, Episode #30.22\n",
      "problem reading timestamp: for Family Guy, Family Guy\n",
      "problem reading rating: for Family Guy, Bri, Robot\n",
      "problem reading rating: for Family Guy, Trans-Fat\n",
      "problem reading rating: for Family Guy, Episode #17.14\n",
      "problem reading rating: for Family Guy, Episode #17.15\n",
      "problem reading rating: for Family Guy, Episode #17.16\n",
      "problem reading rating: for Family Guy, Episode #17.17\n",
      "problem reading rating: for Family Guy, Episode #17.18\n",
      "problem reading rating: for South Park, Episode #23.1\n",
      "problem reading rating: for South Park, Episode #23.2\n",
      "problem reading rating: for South Park, Episode #23.3\n",
      "problem reading rating: for South Park, Episode #23.4\n",
      "problem reading rating: for South Park, Episode #23.5\n",
      "problem reading rating: for South Park, Episode #23.6\n",
      "problem reading rating: for South Park, Episode #23.7\n",
      "problem reading rating: for South Park, Episode #23.8\n",
      "problem reading rating: for South Park, Episode #23.9\n",
      "problem reading rating: for South Park, Episode #23.10\n",
      "problem reading rating: for Rick and Morty, Episode #4.1\n"
     ]
    }
   ],
   "source": [
    "## TODO: refactor this...\n",
    "\n",
    "ratings = []\n",
    "dates = []\n",
    "votes = []\n",
    "plots = []\n",
    "titles = []\n",
    "\n",
    "c = 0\n",
    "for s in series: \n",
    "    episodes = helpers.sortedEpisodes(s)\n",
    "    ratings.append([])\n",
    "    dates.append([])\n",
    "    votes.append([])\n",
    "    plots.append([])\n",
    "    titles.append([])\n",
    "    for e in episodes:        \n",
    "        try:\n",
    "            ratings[c].append(e['rating'])\n",
    "        except KeyError:\n",
    "            print(f'problem reading rating: for {s}, {e}')\n",
    "            continue\n",
    "            \n",
    "        try:\n",
    "            timestamp = dt.datetime.strptime(e['original air date'] , \"%d %b %Y\")\n",
    "            dates[c].append(timestamp)\n",
    "        except KeyError:\n",
    "            print(f'problem reading timestamp: for {s}, {e}')\n",
    "            ratings[c].pop()\n",
    "            continue\n",
    "        except ValueError:\n",
    "            try:\n",
    "                timestamp = dt.datetime.strptime(e['original air date'] , \"%d %b. %Y\")\n",
    "                dates[c].append(timestamp)\n",
    "            except:\n",
    "                print(f'problem reading timestamp: for {s}, {e}')\n",
    "                ratings[c].pop()\n",
    "                \n",
    "    c = c + 1"
   ]
  },
  {
   "cell_type": "code",
   "execution_count": 8,
   "metadata": {},
   "outputs": [
    {
     "data": {
      "text/plain": [
       "(320, 320)"
      ]
     },
     "execution_count": 8,
     "metadata": {},
     "output_type": "execute_result"
    }
   ],
   "source": [
    "len(dates[1]), len(ratings[1])"
   ]
  },
  {
   "cell_type": "markdown",
   "metadata": {},
   "source": [
    "## Plots"
   ]
  },
  {
   "cell_type": "code",
   "execution_count": 9,
   "metadata": {},
   "outputs": [],
   "source": [
    "import matplotlib.pyplot as plt"
   ]
  },
  {
   "cell_type": "code",
   "execution_count": 10,
   "metadata": {},
   "outputs": [
    {
     "name": "stderr",
     "output_type": "stream",
     "text": [
      "C:\\tools\\Anaconda3\\envs\\pythondata\\lib\\site-packages\\matplotlib\\figure.py:459: UserWarning: matplotlib is currently using a non-GUI backend, so cannot show the figure\n",
      "  \"matplotlib is currently using a non-GUI backend, \"\n"
     ]
    },
    {
     "data": {
      "image/png": "[encoded data removed]",
      "text/plain": [
       "<Figure size 720x504 with 1 Axes>"
      ]
     },
     "metadata": {
      "needs_background": "light"
     },
     "output_type": "display_data"
    }
   ],
   "source": [
    "fig, ax = plt.subplots()\n",
    "fig.set_figheight(7)\n",
    "fig.set_figwidth(10)\n",
    "\n",
    "for i in range(len(series)):\n",
    "    ax.scatter(dates[i], ratings[i], label=series[i]['title'], marker='+')\n",
    "    \n",
    "ax.set_xlabel('Original Air Date')\n",
    "ax.set_ylabel('Average IMDB User Rating')\n",
    "\n",
    "fig.legend()\n",
    "fig.show()"
   ]
  },
  {
   "cell_type": "code",
   "execution_count": null,
   "metadata": {},
   "outputs": [],
   "source": []
  }
 ],
 "metadata": {
  "kernelspec": {
   "display_name": "Python 3",
   "language": "python",
   "name": "python3"
  },
  "language_info": {
   "codemirror_mode": {
    "name": "ipython",
    "version": 3
   },
   "file_extension": ".py",
   "mimetype": "text/x-python",
   "name": "python",
   "nbconvert_exporter": "python",
   "pygments_lexer": "ipython3",
   "version": "3.6.6"
  }
 },
 "nbformat": 4,
 "nbformat_minor": 2
}
