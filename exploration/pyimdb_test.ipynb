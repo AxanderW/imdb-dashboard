{
 "cells": [
  {
   "cell_type": "code",
   "execution_count": 1,
   "metadata": {},
   "outputs": [],
   "source": [
    "import json\n",
    "import pandas as pd\n",
    "import datetime as dt\n",
    "from imdb import IMDb\n",
    "from imdb import helpers\n",
    "ia = IMDb()"
   ]
  },
  {
   "cell_type": "code",
   "execution_count": 2,
   "metadata": {},
   "outputs": [
    {
     "data": {
      "text/plain": [
       "[<Movie id:7848542[http] title:_Aeon (2018)_>,\n",
       " <Movie id:9298654[http] title:_Aeon (2019)_>,\n",
       " <Movie id:1540750[http] title:_Aeon (2007) (V)_>,\n",
       " <Movie id:0402022[http] title:_Æon Flux (2005)_>,\n",
       " <Movie id:0111873[http] title:_\"Æon Flux\" (1991)_>,\n",
       " <Movie id:8550722[http] title:_\"Aeon Flux\" (2019)_>,\n",
       " <Movie id:2854990[http] title:_The Last Vampyre on Earth (2013)_>,\n",
       " <Movie id:0190841[http] title:_Aeon - Countdown im All (2000)_>,\n",
       " <Movie id:3748528[http] title:_Rogue One: A Star Wars Story (2016)_>,\n",
       " <Movie id:8439140[http] title:_Aeon (2004)_>,\n",
       " <Movie id:0795512[http] title:_Æon Flux (2005) (VG)_>,\n",
       " <Movie id:0071007[http] title:_\"Little House on the Prairie\" (1974)_>,\n",
       " <Movie id:1974419[http] title:_The Neon Demon (2016)_>,\n",
       " <Movie id:3734428[http] title:_Strange Aeons (2014)_>,\n",
       " <Movie id:0118571[http] title:_Air Force One (1997)_>,\n",
       " <Movie id:7134120[http] title:_Star Wars: Aeon (2016)_>,\n",
       " <Movie id:0374900[http] title:_Napoleon Dynamite (2004)_>,\n",
       " <Movie id:0087800[http] title:_A Nightmare on Elm Street (1984)_>,\n",
       " <Movie id:5302658[http] title:_Love on the Sidelines (2016) (TV)_>,\n",
       " <Movie id:0844708[http] title:_The Last House on the Left (2009)_>]"
      ]
     },
     "execution_count": 2,
     "metadata": {},
     "output_type": "execute_result"
    }
   ],
   "source": [
    "s_result = ia.search_movie('aeon')\n",
    "s_result"
   ]
  },
  {
   "cell_type": "code",
   "execution_count": 3,
   "metadata": {},
   "outputs": [
    {
     "data": {
      "text/plain": [
       "['2861424',\n",
       " '0371475',\n",
       " '0105950',\n",
       " '0111873',\n",
       " '0208614',\n",
       " '0118298',\n",
       " '0121955',\n",
       " '0182576',\n",
       " '0397306',\n",
       " '0118375',\n",
       " '0108937',\n",
       " '0149460',\n",
       " '0297494',\n",
       " '1486217',\n",
       " '0373732',\n",
       " '0839188',\n",
       " '0437745',\n",
       " '0457146',\n",
       " '1031283',\n",
       " '6524350',\n",
       " '1561755',\n",
       " '3398228',\n",
       " '2950342',\n",
       " '0417373',\n",
       " '0096697',\n",
       " '4641774']"
      ]
     },
     "execution_count": 3,
     "metadata": {},
     "output_type": "execute_result"
    }
   ],
   "source": [
    "rick_n_morty = '2861424'\n",
    "ren_n_stimpy = '0371475'\n",
    "beevis_n_butthead = '0105950'\n",
    "aeon_flux = '0111873' # in case of re search copy Æon Flux\n",
    "celeb_deathmatch = '0208614'\n",
    "daria = '0118298'\n",
    "south_park = '0121955'\n",
    "fam_guy = '0182576'\n",
    "american_dad = '0397306'\n",
    "king_hill = '0118375'\n",
    "space_ghost = '0108937'\n",
    "futurama = '0149460'\n",
    "aqua_thf = '0297494'\n",
    "archer = '1486217'\n",
    "boondocks = '0373732'\n",
    "metalocalypse = '0839188'\n",
    "robot_chick = '0437745'\n",
    "squidbillies = '0457146'\n",
    "super_jail = '1031283'\n",
    "big_mouth = '6524350'\n",
    "bobs_burg = '1561755'\n",
    "bojack = '3398228'\n",
    "mr_pickles = '2950342'\n",
    "venture = '0417373'\n",
    "simpsons = '0096697'\n",
    "spawn = '4641774'\n",
    "\n",
    "curr_titles = ([rick_n_morty,ren_n_stimpy,beevis_n_butthead,aeon_flux,celeb_deathmatch,daria,\n",
    "                south_park,fam_guy,american_dad,king_hill,space_ghost,futurama,aqua_thf,archer,\n",
    "                boondocks,metalocalypse,robot_chick,squidbillies,super_jail,big_mouth,bobs_burg,\n",
    "                bojack,mr_pickles,venture,simpsons,spawn])\n",
    "curr_titles"
   ]
  },
  {
   "cell_type": "markdown",
   "metadata": {},
   "source": [
    "## User Defined Config"
   ]
  },
  {
   "cell_type": "code",
   "execution_count": 4,
   "metadata": {},
   "outputs": [
    {
     "data": {
      "text/plain": [
       "'2861424'"
      ]
     },
     "execution_count": 4,
     "metadata": {},
     "output_type": "execute_result"
    }
   ],
   "source": [
    "# Must be a list of TV series to plot\n",
    "titles = ['0096697', '0182576', '0121955', '2861424']\n",
    "rick_n_morty"
   ]
  },
  {
   "cell_type": "markdown",
   "metadata": {},
   "source": [
    "## Extract the Data"
   ]
  },
  {
   "cell_type": "code",
   "execution_count": 5,
   "metadata": {},
   "outputs": [
    {
     "name": "stdout",
     "output_type": "stream",
     "text": [
      "Time elapsed: 0:00:01.481299\n"
     ]
    }
   ],
   "source": [
    "start = dt.datetime.now()\n",
    "#series = [ia.get_movie(t) for t in curr_titles]\n",
    "series = [ia.get_movie(rick_n_morty)]\n",
    "end = dt.datetime.now()\n",
    "print(f'Time elapsed: {end - start}')"
   ]
  },
  {
   "cell_type": "code",
   "execution_count": 6,
   "metadata": {},
   "outputs": [],
   "source": [
    "series\n",
    "for s in series:\n",
    "    ia.update(s, 'episodes')\n",
    "\n",
    "end = dt.datetime.now()"
   ]
  },
  {
   "cell_type": "code",
   "execution_count": 57,
   "metadata": {},
   "outputs": [
    {
     "ename": "TypeError",
     "evalue": "list indices must be integers or slices, not Movie",
     "output_type": "error",
     "traceback": [
      "\u001b[1;31m---------------------------------------------------------------------------\u001b[0m",
      "\u001b[1;31mTypeError\u001b[0m                                 Traceback (most recent call last)",
      "\u001b[1;32m<ipython-input-57-7b41d8fb46f1>\u001b[0m in \u001b[0;36m<module>\u001b[1;34m()\u001b[0m\n\u001b[0;32m      1\u001b[0m \u001b[0mrnm\u001b[0m \u001b[1;33m=\u001b[0m \u001b[0mseries\u001b[0m\u001b[1;33m\u001b[0m\u001b[0m\n\u001b[0;32m      2\u001b[0m \u001b[1;32mfor\u001b[0m \u001b[0mi\u001b[0m \u001b[1;32min\u001b[0m \u001b[0mrnm\u001b[0m\u001b[1;33m:\u001b[0m\u001b[1;33m\u001b[0m\u001b[0m\n\u001b[1;32m----> 3\u001b[1;33m     \u001b[0mprint\u001b[0m\u001b[1;33m(\u001b[0m\u001b[0mrnm\u001b[0m\u001b[1;33m[\u001b[0m\u001b[0mi\u001b[0m\u001b[1;33m]\u001b[0m\u001b[1;33m)\u001b[0m\u001b[1;33m\u001b[0m\u001b[0m\n\u001b[0m",
      "\u001b[1;31mTypeError\u001b[0m: list indices must be integers or slices, not Movie"
     ]
    }
   ],
   "source": [
    "rnm = series\n",
    "for i in rnm:\n",
    "    print(rnm[i])\n"
   ]
  },
  {
   "cell_type": "code",
   "execution_count": 30,
   "metadata": {},
   "outputs": [
    {
     "name": "stdout",
     "output_type": "stream",
     "text": [
      "Time elapsed: 0:00:00\n",
      "Rick and Morty\n",
      "problem reading rating: for Rick and Morty, Episode #4.1\n"
     ]
    }
   ],
   "source": [
    "start = dt.datetime.now()\n",
    "for s in series:\n",
    "    ia.update(s, 'episodes')\n",
    "\n",
    "end = dt.datetime.now()\n",
    "print(f'Time elapsed: {end - start}')\n",
    "\n",
    "print(series[0])\n",
    "#for i in series[0].keys():\n",
    "#    print(f\"{i}: {series[0][i]}\")\n",
    "\n",
    "ratings = []\n",
    "dates = []\n",
    "votes = []\n",
    "plots = []\n",
    "titles = []\n",
    "\n",
    "c = 0\n",
    "\n",
    "for s in series: \n",
    "    episodes = helpers.sortedEpisodes(s)\n",
    "    ratings.append([])\n",
    "    dates.append([])\n",
    "    votes.append([])\n",
    "    plots.append([])\n",
    "    titles.append([])\n",
    "    for e in episodes:        \n",
    "        try:\n",
    "            ratings[c].append(e['rating'])\n",
    "        except KeyError:\n",
    "            print(f'problem reading rating: for {s}, {e}')\n",
    "            continue\n",
    "            \n",
    "        try:\n",
    "            timestamp = dt.datetime.strptime(e['original air date'] , \"%d %b %Y\")\n",
    "            dates[c].append(timestamp)\n",
    "        except KeyError:\n",
    "            print(f'problem reading timestamp: for {s}, {e}')\n",
    "            ratings[c].pop()\n",
    "            continue\n",
    "        except ValueError:\n",
    "            try:\n",
    "                timestamp = dt.datetime.strptime(e['original air date'] , \"%d %b. %Y\")\n",
    "                dates[c].append(timestamp)\n",
    "            except:\n",
    "                print(f'problem reading timestamp: for {s}, {e}')\n",
    "                ratings[c].pop()\n",
    "                \n",
    "    c = c + 1\n",
    "    "
   ]
  },
  {
   "cell_type": "code",
   "execution_count": 32,
   "metadata": {},
   "outputs": [
    {
     "data": {
      "text/plain": [
       "[[8.0,\n",
       "  8.5,\n",
       "  8.3,\n",
       "  8.5,\n",
       "  8.7,\n",
       "  8.8,\n",
       "  8.0,\n",
       "  8.5,\n",
       "  8.3,\n",
       "  9.0,\n",
       "  8.3,\n",
       "  8.5,\n",
       "  8.6,\n",
       "  8.3,\n",
       "  9.3,\n",
       "  8.1,\n",
       "  9.0,\n",
       "  8.3,\n",
       "  7.5,\n",
       "  8.3,\n",
       "  9.0,\n",
       "  9.5,\n",
       "  8.1,\n",
       "  9.2,\n",
       "  8.1,\n",
       "  8.4,\n",
       "  8.8,\n",
       "  9.8,\n",
       "  8.7,\n",
       "  7.9,\n",
       "  8.1]]"
      ]
     },
     "execution_count": 32,
     "metadata": {},
     "output_type": "execute_result"
    }
   ],
   "source": [
    "ratings"
   ]
  },
  {
   "cell_type": "code",
   "execution_count": 65,
   "metadata": {},
   "outputs": [
    {
     "data": {
      "text/plain": [
       "[<Movie id:2861424[http] title:_\"Rick and Morty\" (2013)_>,\n",
       " <Movie id:0371475[http] title:_\"Ren & Stimpy 'Adult Party Cartoon'\" (2003)_>,\n",
       " <Movie id:0105950[http] title:_\"Beavis and Butt-Head\" (1993)_>,\n",
       " <Movie id:0111873[http] title:_\"Æon Flux\" (1991)_>,\n",
       " <Movie id:0208614[http] title:_\"Celebrity Deathmatch\" (1998)_>,\n",
       " <Movie id:0118298[http] title:_\"Daria\" (1997)_>,\n",
       " <Movie id:0121955[http] title:_\"South Park\" (1997)_>,\n",
       " <Movie id:0182576[http] title:_\"Family Guy\" (1998)_>,\n",
       " <Movie id:0397306[http] title:_\"American Dad!\" (2005)_>,\n",
       " <Movie id:0118375[http] title:_\"King of the Hill\" (1997)_>,\n",
       " <Movie id:0108937[http] title:_\"Space Ghost Coast to Coast\" (1993)_>,\n",
       " <Movie id:0149460[http] title:_\"Futurama\" (1999)_>,\n",
       " <Movie id:0297494[http] title:_\"Aqua Teen Hunger Force\" (2000)_>,\n",
       " <Movie id:1486217[http] title:_\"Archer\" (2009)_>,\n",
       " <Movie id:0373732[http] title:_\"The Boondocks\" (2005)_>,\n",
       " <Movie id:0839188[http] title:_\"Metalocalypse\" (2006)_>,\n",
       " <Movie id:0437745[http] title:_\"Robot Chicken\" (2001)_>,\n",
       " <Movie id:0457146[http] title:_\"Squidbillies\" (2005)_>,\n",
       " <Movie id:1031283[http] title:_\"Superjail!\" (2007)_>,\n",
       " <Movie id:6524350[http] title:_\"Big Mouth\" (2017)_>,\n",
       " <Movie id:1561755[http] title:_\"Bob's Burgers\" (2011)_>,\n",
       " <Movie id:3398228[http] title:_\"BoJack Horseman\" (2014)_>,\n",
       " <Movie id:2950342[http] title:_\"Mr. Pickles\" (2013)_>,\n",
       " <Movie id:0417373[http] title:_\"The Venture Bros.\" (2003)_>,\n",
       " <Movie id:0096697[http] title:_\"The Simpsons\" (1989)_>]"
      ]
     },
     "execution_count": 65,
     "metadata": {},
     "output_type": "execute_result"
    }
   ],
   "source": [
    "series"
   ]
  },
  {
   "cell_type": "markdown",
   "metadata": {},
   "source": [
    "### Inspect..."
   ]
  },
  {
   "cell_type": "code",
   "execution_count": 68,
   "metadata": {},
   "outputs": [
    {
     "name": "stdout",
     "output_type": "stream",
     "text": [
      "title: Bart the Genius\n",
      "kind: episode\n",
      "episode of: The Simpsons (TV Series 1989– )\n",
      "season: 1\n",
      "episode: 2\n",
      "rating: 7.8\n",
      "votes: 2798\n",
      "original air date: 14 Jan. 1990\n",
      "year: 1990\n",
      "plot: \n",
      "    Bart ends up at a school for gifted children after cheating on an IQ test.    \n",
      "canonical title: Bart the Genius\n",
      "long imdb title: \"The Simpsons (TV Series 1989– )\" Bart the Genius (1990)\n",
      "long imdb canonical title: \"Simpsons (TV Series 1989– ), The\" Bart the Genius (1990)\n",
      "smart canonical title: Bart the Genius\n",
      "smart long imdb canonical title: \"Simpsons (TV Series 1989– ), The\" Bart the Genius (1990)\n",
      "long imdb episode title: \"The Simpsons (TV Series 1989– )\" Bart the Genius (1990)\n",
      "series title: The Simpsons (TV Series 1989– )\n",
      "canonical series title: Simpsons (TV Series 1989– ), The\n",
      "episode title: Bart the Genius\n",
      "canonical episode title: Bart the Genius\n",
      "smart canonical series title: Simpsons (TV Series 1989– ), The\n",
      "smart canonical episode title: Bart the Genius\n"
     ]
    }
   ],
   "source": [
    "# The Simpsons S01E02\n",
    "for k in series[0]['episodes'][1][2].keys():\n",
    "    print(f\"{k}: {series[24]['episodes'][1][2][k]}\")"
   ]
  },
  {
   "cell_type": "code",
   "execution_count": 71,
   "metadata": {},
   "outputs": [
    {
     "name": "stdout",
     "output_type": "stream",
     "text": [
      "title: The Cleveland-Loretta Quagmire\n",
      "kind: episode\n",
      "episode of: Family Guy (TV Series 1998– )\n",
      "season: 4\n",
      "episode: 5\n",
      "rating: 7.6\n",
      "votes: 1102\n",
      "original air date: 12 Jun. 2005\n",
      "year: 2005\n",
      "plot: \n",
      "    Cleveland's wife Loretta has an affair with Quagmire.    \n",
      "canonical title: Cleveland-Loretta Quagmire, The\n",
      "long imdb title: \"Family Guy (TV Series 1998– )\" The Cleveland-Loretta Quagmire (2005)\n",
      "long imdb canonical title: \"Family Guy (TV Series 1998– )\" The Cleveland-Loretta Quagmire (2005)\n",
      "smart canonical title: Cleveland-Loretta Quagmire, The\n",
      "smart long imdb canonical title: \"Family Guy (TV Series 1998– )\" The Cleveland-Loretta Quagmire (2005)\n",
      "long imdb episode title: \"Family Guy (TV Series 1998– )\" The Cleveland-Loretta Quagmire (2005)\n",
      "series title: Family Guy (TV Series 1998– )\n",
      "canonical series title: Family Guy (TV Series 1998– )\n",
      "episode title: The Cleveland-Loretta Quagmire\n",
      "canonical episode title: Cleveland-Loretta Quagmire, The\n",
      "smart canonical series title: Family Guy (TV Series 1998– )\n",
      "smart canonical episode title: Cleveland-Loretta Quagmire, The\n"
     ]
    }
   ],
   "source": [
    "# Family Guy S04E05\n",
    "for k in series[0]['episodes'][1][2].keys():\n",
    "    print(f\"{k}: {series[7]['episodes'][4][5][k]}\")"
   ]
  },
  {
   "cell_type": "code",
   "execution_count": 72,
   "metadata": {},
   "outputs": [
    {
     "name": "stdout",
     "output_type": "stream",
     "text": [
      "problem reading rating: for Rick and Morty, Episode #4.1\n",
      "problem reading timestamp: for Beavis and Butt-Head, Burger World\n",
      "problem reading rating: for Celebrity Deathmatch, Yankovic vs. Wayans\n",
      "problem reading timestamp: for Celebrity Deathmatch, 37th Annual Sci-Fi Fight Night\n",
      "problem reading timestamp: for Celebrity Deathmatch, The Battle of the Boys with Toys\n",
      "problem reading timestamp: for Celebrity Deathmatch, Magic, Flashbacks and Pregnancies\n",
      "problem reading timestamp: for Celebrity Deathmatch, The Time Machine\n",
      "problem reading timestamp: for Celebrity Deathmatch, The End of the Real World\n",
      "problem reading timestamp: for Celebrity Deathmatch, 4th July Celebration\n",
      "problem reading timestamp: for Celebrity Deathmatch, Family Night\n",
      "problem reading timestamp: for Celebrity Deathmatch, The Laser Pointer\n",
      "problem reading timestamp: for Celebrity Deathmatch, Robot Nick\n",
      "problem reading timestamp: for Celebrity Deathmatch, From the Streets of New York\n",
      "problem reading timestamp: for Celebrity Deathmatch, The Congressional Hearings\n",
      "problem reading timestamp: for Celebrity Deathmatch, Sex, Lugs, and Rock 'n' Roll\n",
      "problem reading timestamp: for Celebrity Deathmatch, Johnny and Debbie... In Love: Part 1\n",
      "problem reading timestamp: for Celebrity Deathmatch, Time Traveling: Part 2\n",
      "problem reading timestamp: for Celebrity Deathmatch, Celebrity Deathmatch Top 10\n",
      "problem reading timestamp: for Celebrity Deathmatch, Nick's Little Friend\n",
      "problem reading timestamp: for Celebrity Deathmatch, Deathcon 2001\n",
      "problem reading timestamp: for Celebrity Deathmatch, Festival of Food Fights\n",
      "problem reading timestamp: for Celebrity Deathmatch, Where Is Einstein's Brain?\n",
      "problem reading timestamp: for Celebrity Deathmatch, Debbie Is Pregnant\n",
      "problem reading timestamp: for Celebrity Deathmatch, Battle of the Superfreaks\n",
      "problem reading timestamp: for Celebrity Deathmatch, Robert DeNiro vs. James Gandolfini\n",
      "problem reading timestamp: for Celebrity Deathmatch, Vince Vaughn vs. Owen Wilson\n",
      "problem reading timestamp: for Celebrity Deathmatch, Celebrity Death Mash\n",
      "problem reading rating: for South Park, Episode #23.1\n",
      "problem reading rating: for South Park, Episode #23.2\n",
      "problem reading rating: for South Park, Episode #23.3\n",
      "problem reading rating: for South Park, Episode #23.4\n",
      "problem reading rating: for South Park, Episode #23.5\n",
      "problem reading rating: for South Park, Episode #23.6\n",
      "problem reading rating: for South Park, Episode #23.7\n",
      "problem reading rating: for South Park, Episode #23.8\n",
      "problem reading rating: for South Park, Episode #23.9\n",
      "problem reading rating: for South Park, Episode #23.10\n",
      "problem reading timestamp: for Family Guy, Family Guy\n",
      "problem reading rating: for Family Guy, Bri, Robot\n",
      "problem reading rating: for Family Guy, Trans-Fat\n",
      "problem reading rating: for Family Guy, Episode #17.14\n",
      "problem reading rating: for Family Guy, Episode #17.15\n",
      "problem reading rating: for Family Guy, Episode #17.16\n",
      "problem reading rating: for Family Guy, Episode #17.17\n",
      "problem reading rating: for Family Guy, Episode #17.18\n",
      "problem reading timestamp: for American Dad!, Unaired Pilot\n",
      "problem reading rating: for American Dad!, One-Woman Swole\n",
      "problem reading rating: for American Dad!, Episode #13.15\n",
      "problem reading rating: for American Dad!, Episode #13.16\n",
      "problem reading rating: for American Dad!, Episode #13.17\n",
      "problem reading rating: for American Dad!, Episode #13.18\n",
      "problem reading rating: for American Dad!, Episode #13.19\n",
      "problem reading rating: for American Dad!, Episode #13.20\n",
      "problem reading rating: for American Dad!, Episode #13.21\n",
      "problem reading rating: for American Dad!, Episode #13.22\n",
      "problem reading rating: for American Dad!, Episode #14.1\n",
      "problem reading rating: for American Dad!, Episode #15.1\n",
      "problem reading rating: for Space Ghost Coast to Coast, Mommentary: Creator's Commentary\n",
      "problem reading rating: for Space Ghost Coast to Coast, Mommentary: Jellybean\n",
      "problem reading rating: for Space Ghost Coast to Coast, Episode #10.1\n",
      "problem reading rating: for Space Ghost Coast to Coast, Episode #10.2\n",
      "problem reading rating: for Space Ghost Coast to Coast, Episode #10.3\n",
      "problem reading rating: for Space Ghost Coast to Coast, Episode #10.4\n",
      "problem reading rating: for Space Ghost Coast to Coast, Episode #10.5\n",
      "problem reading rating: for Space Ghost Coast to Coast, Episode #10.6\n",
      "problem reading rating: for Space Ghost Coast to Coast, Episode #10.7\n",
      "problem reading rating: for Space Ghost Coast to Coast, Episode #10.8\n",
      "problem reading rating: for Space Ghost Coast to Coast, Episode #10.9\n",
      "problem reading rating: for Space Ghost Coast to Coast, Episode #11.1\n",
      "problem reading rating: for Space Ghost Coast to Coast, Episode #11.2\n",
      "problem reading rating: for Space Ghost Coast to Coast, Episode #11.3\n",
      "problem reading rating: for Space Ghost Coast to Coast, Episode #11.4\n",
      "problem reading rating: for Space Ghost Coast to Coast, Episode #11.5\n",
      "problem reading rating: for Space Ghost Coast to Coast, Episode #11.6\n",
      "problem reading rating: for Space Ghost Coast to Coast, Episode #11.7\n",
      "problem reading rating: for Space Ghost Coast to Coast, Episode #11.8\n",
      "problem reading timestamp: for Aqua Teen Hunger Force, Star Studded Christmas Special\n",
      "problem reading rating: for Archer, Episode #10.1\n",
      "problem reading rating: for Archer, Episode #10.2\n",
      "problem reading rating: for Archer, Episode #10.3\n",
      "problem reading rating: for Archer, Episode #10.4\n",
      "problem reading rating: for Archer, Episode #10.5\n",
      "problem reading rating: for Archer, Episode #10.6\n",
      "problem reading rating: for Archer, Episode #10.7\n",
      "problem reading rating: for Archer, Episode #10.8\n",
      "problem reading rating: for The Boondocks, Unaired Pilot\n",
      "problem reading timestamp: for Metalocalypse, Metalocalypse: The Doomstar Requiem - A Klok Opera\n",
      "problem reading timestamp: for Robot Chicken, Sweet J Presents\n",
      "problem reading timestamp: for Squidbillies, Ga-Ga-Ghost\n",
      "problem reading timestamp: for Squidbillies, The Inkubator Lives!\n",
      "problem reading timestamp: for Squidbillies, Drone to the Bone\n",
      "problem reading timestamp: for Squidbillies, A Jailhouse Divided\n",
      "problem reading timestamp: for Squidbillies, Stop. Jammertime!\n",
      "problem reading timestamp: for Squidbillies, Thou Shale Not Drill\n",
      "problem reading timestamp: for Squidbillies, The Squid Stays in the Picture\n",
      "problem reading rating: for Squidbillies, Episode #12.1\n",
      "problem reading rating: for Big Mouth, Episode #3.1\n",
      "problem reading rating: for Big Mouth, Episode #3.2\n",
      "problem reading rating: for Big Mouth, Episode #3.3\n",
      "problem reading rating: for Big Mouth, Episode #3.4\n",
      "problem reading rating: for Big Mouth, Episode #3.5\n",
      "problem reading rating: for Big Mouth, Episode #3.6\n",
      "problem reading rating: for Big Mouth, Episode #3.7\n",
      "problem reading rating: for Big Mouth, Episode #3.8\n",
      "problem reading rating: for Big Mouth, Episode #3.9\n",
      "problem reading rating: for Big Mouth, Episode #3.10\n",
      "problem reading rating: for Bob's Burgers, Pilot\n",
      "problem reading rating: for Bob's Burgers, Bed, Bob and Beyond\n",
      "problem reading rating: for Bob's Burgers, Every Which Way but Goose\n",
      "problem reading rating: for Bob's Burgers, Episode #9.15\n",
      "problem reading rating: for Bob's Burgers, Episode #9.16\n",
      "problem reading rating: for Bob's Burgers, Episode #9.17\n",
      "problem reading rating: for Bob's Burgers, Episode #9.18\n",
      "problem reading rating: for Bob's Burgers, Episode #9.19\n",
      "problem reading rating: for BoJack Horseman, Episode #6.1\n",
      "problem reading rating: for The Simpsons, I'm Just a Girl Who Can't Say D'oh\n",
      "problem reading rating: for The Simpsons, I'm Dancing as Fat as I Can\n",
      "problem reading rating: for The Simpsons, The Clown Stays in the Picture\n",
      "problem reading rating: for The Simpsons, Episode #30.15\n",
      "problem reading rating: for The Simpsons, Episode #30.16\n",
      "problem reading rating: for The Simpsons, Episode #30.17\n",
      "problem reading rating: for The Simpsons, Episode #30.18\n",
      "problem reading rating: for The Simpsons, Episode #30.19\n",
      "problem reading rating: for The Simpsons, Episode #30.22\n"
     ]
    }
   ],
   "source": [
    "## TODO: refactor this...\n",
    "\n",
    "ratings = []\n",
    "dates = []\n",
    "votes = []\n",
    "plots = []\n",
    "titles = []\n",
    "\n",
    "c = 0\n",
    "for s in series: \n",
    "    episodes = helpers.sortedEpisodes(s)\n",
    "    ratings.append([])\n",
    "    dates.append([])\n",
    "    votes.append([])\n",
    "    plots.append([])\n",
    "    titles.append([])\n",
    "    for e in episodes:        \n",
    "        try:\n",
    "            ratings[c].append(e['rating'])\n",
    "        except KeyError:\n",
    "            print(f'problem reading rating: for {s}, {e}')\n",
    "            continue\n",
    "            \n",
    "        try:\n",
    "            timestamp = dt.datetime.strptime(e['original air date'] , \"%d %b %Y\")\n",
    "            dates[c].append(timestamp)\n",
    "        except KeyError:\n",
    "            print(f'problem reading timestamp: for {s}, {e}')\n",
    "            ratings[c].pop()\n",
    "            continue\n",
    "        except ValueError:\n",
    "            try:\n",
    "                timestamp = dt.datetime.strptime(e['original air date'] , \"%d %b. %Y\")\n",
    "                dates[c].append(timestamp)\n",
    "            except:\n",
    "                print(f'problem reading timestamp: for {s}, {e}')\n",
    "                ratings[c].pop()\n",
    "                \n",
    "    c = c + 1"
   ]
  },
  {
   "cell_type": "code",
   "execution_count": 73,
   "metadata": {},
   "outputs": [
    {
     "data": {
      "text/plain": [
       "(8, 8)"
      ]
     },
     "execution_count": 73,
     "metadata": {},
     "output_type": "execute_result"
    }
   ],
   "source": [
    "len(dates[1]), len(ratings[1])"
   ]
  },
  {
   "cell_type": "markdown",
   "metadata": {},
   "source": [
    "## Plots"
   ]
  },
  {
   "cell_type": "code",
   "execution_count": 74,
   "metadata": {},
   "outputs": [],
   "source": [
    "import matplotlib.pyplot as plt"
   ]
  },
  {
   "cell_type": "code",
   "execution_count": 81,
   "metadata": {},
   "outputs": [
    {
     "name": "stderr",
     "output_type": "stream",
     "text": [
      "C:\\Users\\misir\\Anaconda3\\envs\\pythondata\\lib\\site-packages\\matplotlib\\figure.py:459: UserWarning: matplotlib is currently using a non-GUI backend, so cannot show the figure\n",
      "  \"matplotlib is currently using a non-GUI backend, \"\n"
     ]
    },
    {
     "data": {
      "image/png": "[encoded data removed]",
      "text/plain": [
       "<Figure size 720x504 with 1 Axes>"
      ]
     },
     "metadata": {},
     "output_type": "display_data"
    }
   ],
   "source": [
    "fig, ax = plt.subplots()\n",
    "fig.set_figheight(7)\n",
    "fig.set_figwidth(10)\n",
    "\n",
    "for i in range(len(series)):\n",
    "    ax.scatter(dates[i], ratings[i], label=series[i]['title'], marker='+')\n",
    "    \n",
    "ax.set_xlabel('Original Air Date')\n",
    "ax.set_ylabel('Average IMDB User Rating')\n",
    "\n",
    "fig.legend(bbox_to_anchor=(1.20, .85))\n",
    "fig.show()\n",
    "plt.savefig(\"testgraph.png\")"
   ]
  },
  {
   "cell_type": "code",
   "execution_count": null,
   "metadata": {},
   "outputs": [],
   "source": []
  }
 ],
 "metadata": {
  "kernelspec": {
   "display_name": "Python 3",
   "language": "python",
   "name": "python3"
  },
  "language_info": {
   "codemirror_mode": {
    "name": "ipython",
    "version": 3
   },
   "file_extension": ".py",
   "mimetype": "text/x-python",
   "name": "python",
   "nbconvert_exporter": "python",
   "pygments_lexer": "ipython3",
   "version": "3.6.5"
  }
 },
 "nbformat": 4,
 "nbformat_minor": 2
}
