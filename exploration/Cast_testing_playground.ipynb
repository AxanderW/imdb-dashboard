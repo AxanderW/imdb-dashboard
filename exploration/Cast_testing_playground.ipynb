{
 "cells": [
  {
   "cell_type": "code",
   "execution_count": 2,
   "metadata": {},
   "outputs": [],
   "source": [
    "import json\n",
    "import pandas as pd\n",
    "import datetime as dt\n",
    "from imdb import IMDb\n",
    "from imdb import helpers\n",
    "ia = IMDb()"
   ]
  },
  {
   "cell_type": "code",
   "execution_count": 3,
   "metadata": {},
   "outputs": [],
   "source": [
    "daria = '0118298'"
   ]
  },
  {
   "cell_type": "code",
   "execution_count": 4,
   "metadata": {},
   "outputs": [],
   "source": [
    "series = ia.get_movie(daria)"
   ]
  },
  {
   "cell_type": "code",
   "execution_count": 5,
   "metadata": {},
   "outputs": [
    {
     "data": {
      "text/plain": [
       "['cast',\n",
       " 'genres',\n",
       " 'runtimes',\n",
       " 'countries',\n",
       " 'country codes',\n",
       " 'language codes',\n",
       " 'color info',\n",
       " 'aspect ratio',\n",
       " 'sound mix',\n",
       " 'certificates',\n",
       " 'number of seasons',\n",
       " 'rating',\n",
       " 'votes',\n",
       " 'cover url',\n",
       " 'plot outline',\n",
       " 'languages',\n",
       " 'title',\n",
       " 'year',\n",
       " 'kind',\n",
       " 'series years',\n",
       " 'akas',\n",
       " 'seasons',\n",
       " 'writer',\n",
       " 'production companies',\n",
       " 'distributors',\n",
       " 'other companies',\n",
       " 'plot',\n",
       " 'canonical title',\n",
       " 'long imdb title',\n",
       " 'long imdb canonical title',\n",
       " 'smart canonical title',\n",
       " 'smart long imdb canonical title',\n",
       " 'full-size cover url']"
      ]
     },
     "execution_count": 5,
     "metadata": {},
     "output_type": "execute_result"
    }
   ],
   "source": [
    "series.keys()"
   ]
  },
  {
   "cell_type": "code",
   "execution_count": 6,
   "metadata": {},
   "outputs": [
    {
     "data": {
      "text/plain": [
       "[<Person id:0251550[http] name:_Eichler, Glenn_>,\n",
       " <Person id:0630437[http] name:_Nicoll, Peggy_>,\n",
       " <Person id:0076998[http] name:_Bernstein, Anne D._>]"
      ]
     },
     "execution_count": 6,
     "metadata": {},
     "output_type": "execute_result"
    }
   ],
   "source": [
    "series['writer']"
   ]
  },
  {
   "cell_type": "code",
   "execution_count": 7,
   "metadata": {},
   "outputs": [],
   "source": [
    "cast = series['cast']\n",
    "writer = series['writer']\n",
    "prod_company = series['production companies']\n",
    "distro = series['distributors']\n"
   ]
  },
  {
   "cell_type": "code",
   "execution_count": 8,
   "metadata": {},
   "outputs": [
    {
     "data": {
      "text/plain": [
       "[<Person id:0334935[http] name:_Grandstaff, Tracy_>,\n",
       " <Person id:0393812[http] name:_Hoopes, Wendy_>,\n",
       " <Person id:8814816[http] name:_Rebolledo, Julian_>,\n",
       " <Person id:0528717[http] name:_Lynn, John_>,\n",
       " <Person id:0581631[http] name:_Collins, Lisa Kathleen_>,\n",
       " <Person id:0860443[http] name:_Thompson, Marc_>,\n",
       " <Person id:0016474[http] name:_Albert, Ashley Paige_>,\n",
       " <Person id:0413670[http] name:_Jackson, Jessica Cydnee_>,\n",
       " <Person id:0327623[http] name:_Gonzalez, Alvaro J._>,\n",
       " <Person id:0237711[http] name:_Drew, Sarah_>,\n",
       " <Person id:0490725[http] name:_Laudani, Nora_>,\n",
       " <Person id:0403285[http] name:_Huppert, Steven_>,\n",
       " <Person id:0034309[http] name:_Arend, Geoffrey_>,\n",
       " <Person id:0359972[http] name:_Hankin, Russell_>,\n",
       " <Person id:0637114[http] name:_Novikoff, Tim_>,\n",
       " <Person id:0931447[http] name:_Williams, Paul_>,\n",
       " <Person id:0071583[http] name:_Bennett, Amy_>,\n",
       " <Person id:0268659[http] name:_Fasbender, Bart_>,\n",
       " <Person id:0930014[http] name:_Williams, Amir_>,\n",
       " <Person id:0097374[http] name:_Borrillo, Tom_>,\n",
       " <Person id:0455580[http] name:_Kingston, Katie_>,\n",
       " <Person id:0506879[http] name:_Lewis, Susie_>,\n",
       " <Person id:0267745[http] name:_Farmer, Evan_>,\n",
       " <Person id:0056896[http] name:_Barrera, Kiki_>,\n",
       " <Person id:0065527[http] name:_Becker, Merle_>,\n",
       " <Person id:0272248[http] name:_Ferdinand, Delon_>,\n",
       " <Person id:0469955[http] name:_Krasny, Lemon_>,\n",
       " <Person id:0828840[http] name:_Stevens, Wass_>,\n",
       " <Person id:0199823[http] name:_Daniels, Kevin_>,\n",
       " <Person id:0396891[http] name:_Houston, Sharon_>,\n",
       " <Person id:0952089[http] name:_Zaino, Jessica_>,\n",
       " <Person id:1284186[http] name:_Relly, Dave_>,\n",
       " <Person id:0009584[http] name:_Carin, Danielle_>,\n",
       " <Person id:0137190[http] name:_Carin, Nicole_>,\n",
       " <Person id:0770222[http] name:_Schatz, Ken_>,\n",
       " <Person id:0111275[http] name:_Brolsma, Cindy E._>,\n",
       " <Person id:0682923[http] name:_Pietropinto, Rita_>,\n",
       " <Person id:0869977[http] name:_Towler, Laurine_>,\n",
       " <Person id:0058294[http] name:_Barsky, Brett_>,\n",
       " <Person id:1120714[http] name:_Layne, Stefanie_>,\n",
       " <Person id:0292755[http] name:_Frederic, Patrick_>,\n",
       " <Person id:0068557[http] name:_Bell, Tracy Lee_>,\n",
       " <Person id:0283888[http] name:_Fogel, Eric_>,\n",
       " <Person id:8736694[http] name:_Tomasik, Michele_>,\n",
       " <Person id:0812090[http] name:_Soehner, Barbara_>,\n",
       " <Person id:0073421[http] name:_Berdahl, Sky_>,\n",
       " <Person id:0060108[http] name:_Bass, Stacy_>,\n",
       " <Person id:0100860[http] name:_Bowen, John_>,\n",
       " <Person id:0292957[http] name:_Fredric, Maggie_>,\n",
       " <Person id:0264919[http] name:_Fader, Sarah_>]"
      ]
     },
     "execution_count": 8,
     "metadata": {},
     "output_type": "execute_result"
    }
   ],
   "source": [
    "cast"
   ]
  },
  {
   "cell_type": "code",
   "execution_count": 9,
   "metadata": {},
   "outputs": [],
   "source": [
    "#ia.update(series, 'full credits')\n",
    "ia.update(series, 'episodes')\n",
    "\n",
    "episodes = helpers.sortedEpisodes(series)\n",
    "#ia.update(episodes[0], 'full credits')\n",
    "s = 0\n",
    "for i in episodes:\n",
    "    ia.update(episodes[s], 'full credits')\n",
    "    s = s+1\n",
    "\n",
    "\n",
    "\n"
   ]
  },
  {
   "cell_type": "code",
   "execution_count": 10,
   "metadata": {},
   "outputs": [
    {
     "data": {
      "text/plain": [
       "['title',\n",
       " 'kind',\n",
       " 'episode of',\n",
       " 'season',\n",
       " 'episode',\n",
       " 'rating',\n",
       " 'votes',\n",
       " 'original air date',\n",
       " 'year',\n",
       " 'plot',\n",
       " 'cast',\n",
       " 'canonical title',\n",
       " 'long imdb title',\n",
       " 'long imdb canonical title',\n",
       " 'smart canonical title',\n",
       " 'smart long imdb canonical title',\n",
       " 'long imdb episode title',\n",
       " 'series title',\n",
       " 'canonical series title',\n",
       " 'episode title',\n",
       " 'canonical episode title',\n",
       " 'smart canonical series title',\n",
       " 'smart canonical episode title']"
      ]
     },
     "execution_count": 10,
     "metadata": {},
     "output_type": "execute_result"
    }
   ],
   "source": [
    "episodes[4].keys()\n",
    "#series['episodes'][1][1].keys()"
   ]
  },
  {
   "cell_type": "code",
   "execution_count": 11,
   "metadata": {},
   "outputs": [],
   "source": [
    "episode = helpers.sortedEpisodes(series)"
   ]
  },
  {
   "cell_type": "code",
   "execution_count": 12,
   "metadata": {},
   "outputs": [
    {
     "data": {
      "text/plain": [
       "['title',\n",
       " 'kind',\n",
       " 'episode of',\n",
       " 'season',\n",
       " 'episode',\n",
       " 'rating',\n",
       " 'votes',\n",
       " 'original air date',\n",
       " 'year',\n",
       " 'plot',\n",
       " 'cast',\n",
       " 'canonical title',\n",
       " 'long imdb title',\n",
       " 'long imdb canonical title',\n",
       " 'smart canonical title',\n",
       " 'smart long imdb canonical title',\n",
       " 'long imdb episode title',\n",
       " 'series title',\n",
       " 'canonical series title',\n",
       " 'episode title',\n",
       " 'canonical episode title',\n",
       " 'smart canonical series title',\n",
       " 'smart canonical episode title']"
      ]
     },
     "execution_count": 12,
     "metadata": {},
     "output_type": "execute_result"
    }
   ],
   "source": [
    "episode[2].keys()"
   ]
  },
  {
   "cell_type": "code",
   "execution_count": 13,
   "metadata": {},
   "outputs": [
    {
     "data": {
      "text/plain": [
       "[<Person id:0034309[http] name:_Arend, Geoffrey_>,\n",
       " <Person id:0334935[http] name:_Grandstaff, Tracy_>,\n",
       " <Person id:0065527[http] name:_Becker, Merle_>,\n",
       " <Person id:0393812[http] name:_Hoopes, Wendy_>,\n",
       " <Person id:8814816[http] name:_Rebolledo, Julian_>,\n",
       " <Person id:0272248[http] name:_Ferdinand, Delon_>,\n",
       " <Person id:0581631[http] name:_Collins, Lisa Kathleen_>,\n",
       " <Person id:0292755[http] name:_Frederic, Patrick_>,\n",
       " <Person id:0396891[http] name:_Houston, Sharon_>,\n",
       " <Person id:0403285[http] name:_Huppert, Steven_>,\n",
       " <Person id:0658108[http] name:_Palmer, Amy_>,\n",
       " <Person id:0860443[http] name:_Thompson, Marc_>,\n",
       " <Person id:8736694[http] name:_Tomasik, Michele_>,\n",
       " <Person id:0327623[http] name:_Gonzalez, Alvaro J._>]"
      ]
     },
     "execution_count": 13,
     "metadata": {},
     "output_type": "execute_result"
    }
   ],
   "source": [
    "episode[2]['cast']"
   ]
  },
  {
   "cell_type": "code",
   "execution_count": 34,
   "metadata": {},
   "outputs": [],
   "source": [
    "p = ia.get_person('0004813')\n"
   ]
  },
  {
   "cell_type": "code",
   "execution_count": 42,
   "metadata": {},
   "outputs": [
    {
     "data": {
      "text/plain": [
       "{'actress': [<Movie id:6951546[http] title:_\"Animaniacs\" (2020)_>,\n",
       "  <Movie id:6816026[http] title:_Untitled Ren & Stimpy Short () (None)_>,\n",
       "  <Movie id:7979492[http] title:_Kim Possible (2019) (TV)_>,\n",
       "  <Movie id:0096697[http] title:_\"The Simpsons (1989-2019)\" (None)_>,\n",
       "  <Movie id:7485592[http] title:_\"Top Wing (2017-2018)\" (None)_>,\n",
       "  <Movie id:4801232[http] title:_In Search of Fellini (2017)_>,\n",
       "  <Movie id:6157320[http] title:_Planet of the Couches (2016) (TV)_>,\n",
       "  <Movie id:4047786[http] title:_Lennon (2015)_>,\n",
       "  <Movie id:1780441[http] title:_\"Portlandia\" (2015)_>,\n",
       "  <Movie id:0182576[http] title:_\"Family Guy (2005-2014)\" (None)_>,\n",
       "  <Movie id:4042474[http] title:_The Simpsons Take the Bowl (2014)_>,\n",
       "  <Movie id:2219622[http] title:_\"The 7D\" (2014)_>,\n",
       "  <Movie id:0397306[http] title:_\"American Dad!\" (2013)_>,\n",
       "  <Movie id:0478960[http] title:_\"The Zula Patrol\" (2012)_>,\n",
       "  <Movie id:2902600[http] title:_The Simpsons: Tapped Out (2012) (VG)_>,\n",
       "  <Movie id:0458250[http] title:_\"Betsy's Kindergarten Adventures (2007-2010)\" (None)_>,\n",
       "  <Movie id:1195935[http] title:_\"The Cleveland Show\" (2010)_>,\n",
       "  <Movie id:0816401[http] title:_\"The Replacements (2006-2009)\" (None)_>,\n",
       "  <Movie id:0387714[http] title:_\"All Grown Up! (2003-2008)\" (None)_>,\n",
       "  <Movie id:1227537[http] title:_The Simpsons Ride (2008)_>,\n",
       "  <Movie id:1169167[http] title:_Struck (2008)_>,\n",
       "  <Movie id:0890874[http] title:_\"Random! Cartoons\" (2007)_>,\n",
       "  <Movie id:1139628[http] title:_The Simpsons Game (2007) (VG)_>,\n",
       "  <Movie id:0278866[http] title:_\"Kim Possible (2002-2007)\" (None)_>,\n",
       "  <Movie id:0462538[http] title:_The Simpsons Movie (2007)_>,\n",
       "  <Movie id:1051930[http] title:_The Disney Channel Games (2007)_>,\n",
       "  <Movie id:0285331[http] title:_\"24\" (2007)_>,\n",
       "  <Movie id:0101188[http] title:_\"Rugrats (1992-2006)\" (None)_>,\n",
       "  <Movie id:0486761[http] title:_Leroy & Stitch (2006)_>,\n",
       "  <Movie id:0364774[http] title:_\"Lilo & Stitch: The Series (2003-2005)\" (None)_>,\n",
       "  <Movie id:0446724[http] title:_Kim Possible: So the Drama (2005) (TV)_>,\n",
       "  <Movie id:0809458[http] title:_The Simpsons' Christmas Message (2004)_>,\n",
       "  <Movie id:1910568[http] title:_Kim Possible: The Villain Files (2004)_>,\n",
       "  <Movie id:2353961[http] title:_Disney Channel Hits: Take 1 (2004)_>,\n",
       "  <Movie id:0934486[http] title:_Kim Possible 2: Drakken's Demise (2004) (VG)_>,\n",
       "  <Movie id:0389074[http] title:_Kim Possible: A Sitch in Time (2003) (TV)_>,\n",
       "  <Movie id:2087893[http] title:_Nickelodeon Toon Twister 3D (2003) (VG)_>,\n",
       "  <Movie id:0386789[http] title:_The Simpsons: Hit & Run (2003) (VG)_>,\n",
       "  <Movie id:0337711[http] title:_Rugrats Go Wild (2003)_>,\n",
       "  <Movie id:0341543[http] title:_Rapsittie Street Kids: Believe in Santa (2002)_>,\n",
       "  <Movie id:0442842[http] title:_The Simpsons: Skateboarding (2002) (VG)_>,\n",
       "  <Movie id:0940929[http] title:_Rugrats: Royal Ransom (2002) (VG)_>,\n",
       "  <Movie id:8732300[http] title:_Friends Are Forever: Tales of the Little Princess (2001)_>,\n",
       "  <Movie id:0323983[http] title:_The Simpsons: Road Rage (2001) (VG)_>,\n",
       "  <Movie id:0310232[http] title:_Timber Wolf (2001)_>,\n",
       "  <Movie id:7880380[http] title:_Rugrats: All Growed Up (2001) (VG)_>,\n",
       "  <Movie id:0282976[http] title:_The Simpsons: Wrestling (2001) (VG)_>,\n",
       "  <Movie id:0221751[http] title:_\"God, the Devil and Bob\" (2000)_>,\n",
       "  <Movie id:4755988[http] title:_Putt-Putt Joins the Circus (2000) (VG)_>,\n",
       "  <Movie id:0235589[http] title:_\"Mike, Lu & Og\" (1999)_>,\n",
       "  <Movie id:0857264[http] title:_Simpsons Bowling (1999) (VG)_>,\n",
       "  <Movie id:0164226[http] title:_Animaniacs: Wakko's Wish (1999)_>,\n",
       "  <Movie id:0170996[http] title:_\"Pinky, Elmyra & the Brain (1998-1999)\" (None)_>,\n",
       "  <Movie id:0063951[http] title:_\"Sesame Street (1992-1999)\" (None)_>,\n",
       "  <Movie id:0177455[http] title:_\"Oh Yeah! Cartoons\" (1998)_>,\n",
       "  <Movie id:6328220[http] title:_Animaniacs: Ten Pin Alley (1998) (VG)_>,\n",
       "  <Movie id:0167247[http] title:_The Land Before Time VI: The Secret of Saurus Rock (1998)_>,\n",
       "  <Movie id:0112123[http] title:_\"Pinky and the Brain\" (1998)_>,\n",
       "  <Movie id:0181266[http] title:_\"The Cartoon Cartoon Show\" (1998)_>,\n",
       "  <Movie id:0144262[http] title:_The Jungle Book: Mowgli's Story (1998)_>,\n",
       "  <Movie id:0120685[http] title:_Godzilla (I) (1998)_>,\n",
       "  <Movie id:0143068[http] title:_\"Toonsylvania\" (1998)_>,\n",
       "  <Movie id:3231722[http] title:_Putt-Putt Enters the Race (1998) (VG)_>,\n",
       "  <Movie id:0158958[http] title:_The Simpsons: Virtual Springfield (1997) (VG)_>,\n",
       "  <Movie id:0178807[http] title:_PJ Bunny: A Very Cool Easter (1997)_>,\n",
       "  <Movie id:0170637[http] title:_Suddenly (1996) (TV)_>,\n",
       "  <Movie id:0105941[http] title:_\"Animaniacs (1993-1996)\" (None)_>,\n",
       "  <Movie id:0117832[http] title:_Vows of Deception (1996) (TV)_>,\n",
       "  <Movie id:2388641[http] title:_Around the World with Timon & Pumbaa (1996)_>,\n",
       "  <Movie id:0455764[http] title:_The Simpsons: Cartoon Studio (1996) (VG)_>,\n",
       "  <Movie id:0115128[http] title:_\"The Spooktacular New Adventures of Casper\" (1996)_>,\n",
       "  <Movie id:0179618[http] title:_\"The Twisted Tales of Felix the Cat\" (1995)_>,\n",
       "  <Movie id:0111892[http] title:_\"Baywatch Nights\" (1995)_>,\n",
       "  <Movie id:0112197[http] title:_\"Timon & Pumbaa\" (1995)_>,\n",
       "  <Movie id:0108734[http] title:_\"The Critic (1994-1995)\" (None)_>,\n",
       "  <Movie id:0098800[http] title:_\"The Fresh Prince of Bel-Air\" (1995)_>,\n",
       "  <Movie id:0455833[http] title:_Virtual Bart (1994) (VG)_>,\n",
       "  <Movie id:0207838[http] title:_Yakko's World: An Animaniacs Singalong (1994)_>,\n",
       "  <Movie id:0105935[http] title:_\"Aladdin\" (1994)_>,\n",
       "  <Movie id:0319463[http] title:_The Great O'Grady (1993)_>,\n",
       "  <Movie id:0075471[http] title:_\"ABC Weekend Specials (1984-1993)\" (None)_>,\n",
       "  <Movie id:0213334[http] title:_\"Bonkers\" (1993)_>,\n",
       "  <Movie id:0106105[http] title:_\"Problem Child\" (1993)_>,\n",
       "  <Movie id:0107869[http] title:_Precious Victims (1993) (TV)_>,\n",
       "  <Movie id:0222518[http] title:_\"Adventures of Sonic the Hedgehog\" (1993)_>,\n",
       "  <Movie id:0103428[http] title:_\"Goof Troop\" (1992)_>,\n",
       "  <Movie id:0243933[http] title:_Goof Troop Christmas (1992) (TV)_>,\n",
       "  <Movie id:0179604[http] title:_\"Raw Toonage\" (1992)_>,\n",
       "  <Movie id:0198254[http] title:_\"Tom & Jerry Kids Show\" (1992)_>,\n",
       "  <Movie id:0427866[http] title:_The Simpsons: Bart's Nightmare (1992) (VG)_>,\n",
       "  <Movie id:0105129[http] title:_Petal to the Metal (1992)_>,\n",
       "  <Movie id:0255006[http] title:_Michael Jackson: Black or White (1991)_>,\n",
       "  <Movie id:0296852[http] title:_The Simpsons (1991) (VG)_>,\n",
       "  <Movie id:1042247[http] title:_Big Bird's Birthday or Let Me Eat Cake (1991) (TV)_>,\n",
       "  <Movie id:6143884[http] title:_Bart Simpson: Deep Deep Trouble (1991)_>,\n",
       "  <Movie id:0421687[http] title:_The Simpsons: Bart vs. the Space Mutants (1991) (VG)_>,\n",
       "  <Movie id:1889386[http] title:_Bart Simpson: Do the Bartman (1990)_>,\n",
       "  <Movie id:0103373[http] title:_\"Bobby's World\" (1990)_>,\n",
       "  <Movie id:0444586[http] title:_\"Timeless Tales from Hallmark\" (1990)_>,\n",
       "  <Movie id:1424078[http] title:_The Yum Yums: The Day Things Went Sour (1990) (TV)_>,\n",
       "  <Movie id:0439812[http] title:_The Simpsons: Family Therapy (1989)_>,\n",
       "  <Movie id:0096787[http] title:_All Dogs Go to Heaven (1989)_>,\n",
       "  <Movie id:0097757[http] title:_The Little Mermaid (1989)_>,\n",
       "  <Movie id:0190904[http] title:_\"Fantastic Max (1988-1989)\" (None)_>,\n",
       "  <Movie id:0096842[http] title:_Asterix and the Big Fight (1989)_>,\n",
       "  <Movie id:0213340[http] title:_\"Dink, the Little Dinosaur\" (1989)_>,\n",
       "  <Movie id:0104740[http] title:_Little Nemo: Adventures in Slumberland (1989)_>,\n",
       "  <Movie id:0092469[http] title:_\"The Tracey Ullman Show (1987-1989)\" (None)_>,\n",
       "  <Movie id:0094455[http] title:_\"Empty Nest\" (1989)_>,\n",
       "  <Movie id:0094561[http] title:_\"TV 101\" (1989)_>,\n",
       "  <Movie id:0446466[http] title:_The Simpsons: Family Portrait (1988)_>,\n",
       "  <Movie id:0086802[http] title:_\"Snorks (1984-1988)\" (None)_>,\n",
       "  <Movie id:0213370[http] title:_\"Superman\" (1988)_>,\n",
       "  <Movie id:1058512[http] title:_The Canterville Ghost (1988) (TV)_>,\n",
       "  <Movie id:0096438[http] title:_Who Framed Roger Rabbit (1988)_>,\n",
       "  <Movie id:0095894[http] title:_Pound Puppies and the Legend of Big Paw (1988)_>,\n",
       "  <Movie id:0090503[http] title:_\"Pound Puppies (1986-1987)\" (None)_>,\n",
       "  <Movie id:0088576[http] title:_\"Mr. Belvedere\" (1987)_>,\n",
       "  <Movie id:0252162[http] title:_\"Popeye and Son\" (1987)_>,\n",
       "  <Movie id:0092752[http] title:_The Chipmunk Adventure (1987)_>,\n",
       "  <Movie id:6142346[http] title:_The Simpsons: Good Night (1987)_>,\n",
       "  <Movie id:0090496[http] title:_\"Our House\" (1987)_>,\n",
       "  <Movie id:1051215[http] title:_Christmas Every Day (1986) (TV)_>,\n",
       "  <Movie id:0229405[http] title:_\"Galaxy High School\" (1986)_>,\n",
       "  <Movie id:0184761[http] title:_\"My Little Pony 'n Friends\" (1986)_>,\n",
       "  <Movie id:0352057[http] title:_\"The Glo Friends\" (1986)_>,\n",
       "  <Movie id:0091584[http] title:_My Little Pony: The Movie (1986)_>,\n",
       "  <Movie id:0055683[http] title:_\"The Jetsons\" (1985)_>,\n",
       "  <Movie id:0084972[http] title:_\"Alvin & the Chipmunks (1984-1985)\" (None)_>,\n",
       "  <Movie id:0083399[http] title:_\"Cheers\" (1985)_>,\n",
       "  <Movie id:0090403[http] title:_\"Bridges to Cross\" (1985)_>,\n",
       "  <Movie id:0095233[http] title:_Going Undercover (1985)_>,\n",
       "  <Movie id:0089153[http] title:_Flesh+Blood (1985)_>,\n",
       "  <Movie id:0089264[http] title:_Heaven Help Us (1985)_>,\n",
       "  <Movie id:0089705[http] title:_Not My Kid (1985) (TV)_>,\n",
       "  <Movie id:1219699[http] title:_My Little Pony (1984) (TV)_>,\n",
       "  <Movie id:0083412[http] title:_\"Fame (1983-1984)\" (None)_>,\n",
       "  <Movie id:0085090[http] title:_\"Shirt Tales\" (1983)_>,\n",
       "  <Movie id:0085008[http] title:_\"Saturday Supercade\" (1983)_>,\n",
       "  <Movie id:0086491[http] title:_Twilight Zone: The Movie (1983)_>,\n",
       "  <Movie id:0085410[http] title:_Deadly Lessons (1983) (TV)_>,\n",
       "  <Movie id:0144065[http] title:_\"Ri¢hie Ri¢h\" (1982)_>,\n",
       "  <Movie id:0083497[http] title:_\"Tucker's Witch\" (1982)_>,\n",
       "  <Movie id:0084613[http] title:_The Rules of Marriage (1982) (TV)_>,\n",
       "  <Movie id:0084305[http] title:_Marian Rose White (1982) (TV)_>,\n",
       "  <Movie id:0083090[http] title:_Skokie (1981) (TV)_>,\n",
       "  <Movie id:0080266[http] title:_\"The Ri¢hie Ri¢h/Scooby-Doo Show\" (1980)_>,\n",
       "  <Movie id:0168391[http] title:_\"The Adventures of Tom Sawyer\" (1980)_>]}"
      ]
     },
     "execution_count": 42,
     "metadata": {},
     "output_type": "execute_result"
    }
   ],
   "source": [
    "p['filmography'][0]"
   ]
  },
  {
   "cell_type": "code",
   "execution_count": 43,
   "metadata": {},
   "outputs": [
    {
     "name": "stderr",
     "output_type": "stream",
     "text": [
      "2019-02-03 13:17:45,115 CRITICAL [imdbpy] C:\\Users\\misir\\Anaconda3\\lib\\site-packages\\imdb\\_exceptions.py:34: IMDbError exception raised; args: ('object [<Movie id:6951546[http] title:_\"Animaniacs\" (2020)_>, <Movie id:6816026[http] title:_Untitled Ren & Stimpy Short () (None)_>, <Movie id:7979492[http] title:_Kim Possible (2019) (TV)_>, <Movie id:0096697[http] title:_\"The Simpsons (1989-2019)\" (None)_>, <Movie id:7485592[http] title:_\"Top Wing (2017-2018)\" (None)_>, <Movie id:4801232[http] title:_In Search of Fellini (2017)_>, <Movie id:6157320[http] title:_Planet of the Couches (2016) (TV)_>, <Movie id:4047786[http] title:_Lennon (2015)_>, <Movie id:1780441[http] title:_\"Portlandia\" (2015)_>, <Movie id:0182576[http] title:_\"Family Guy (2005-2014)\" (None)_>, <Movie id:4042474[http] title:_The Simpsons Take the Bowl (2014)_>, <Movie id:2219622[http] title:_\"The 7D\" (2014)_>, <Movie id:0397306[http] title:_\"American Dad!\" (2013)_>, <Movie id:0478960[http] title:_\"The Zula Patrol\" (2012)_>, <Movie id:2902600[http] title:_The Simpsons: Tapped Out (2012) (VG)_>, <Movie id:0458250[http] title:_\"Betsy\\'s Kindergarten Adventures (2007-2010)\" (None)_>, <Movie id:1195935[http] title:_\"The Cleveland Show\" (2010)_>, <Movie id:0816401[http] title:_\"The Replacements (2006-2009)\" (None)_>, <Movie id:0387714[http] title:_\"All Grown Up! (2003-2008)\" (None)_>, <Movie id:1227537[http] title:_The Simpsons Ride (2008)_>, <Movie id:1169167[http] title:_Struck (2008)_>, <Movie id:0890874[http] title:_\"Random! Cartoons\" (2007)_>, <Movie id:1139628[http] title:_The Simpsons Game (2007) (VG)_>, <Movie id:0278866[http] title:_\"Kim Possible (2002-2007)\" (None)_>, <Movie id:0462538[http] title:_The Simpsons Movie (2007)_>, <Movie id:1051930[http] title:_The Disney Channel Games (2007)_>, <Movie id:0285331[http] title:_\"24\" (2007)_>, <Movie id:0101188[http] title:_\"Rugrats (1992-2006)\" (None)_>, <Movie id:0486761[http] title:_Leroy & Stitch (2006)_>, <Movie id:0364774[http] title:_\"Lilo & Stitch: The Series (2003-2005)\" (None)_>, <Movie id:0446724[http] title:_Kim Possible: So the Drama (2005) (TV)_>, <Movie id:0809458[http] title:_The Simpsons\\' Christmas Message (2004)_>, <Movie id:1910568[http] title:_Kim Possible: The Villain Files (2004)_>, <Movie id:2353961[http] title:_Disney Channel Hits: Take 1 (2004)_>, <Movie id:0934486[http] title:_Kim Possible 2: Drakken\\'s Demise (2004) (VG)_>, <Movie id:0389074[http] title:_Kim Possible: A Sitch in Time (2003) (TV)_>, <Movie id:2087893[http] title:_Nickelodeon Toon Twister 3D (2003) (VG)_>, <Movie id:0386789[http] title:_The Simpsons: Hit & Run (2003) (VG)_>, <Movie id:0337711[http] title:_Rugrats Go Wild (2003)_>, <Movie id:0341543[http] title:_Rapsittie Street Kids: Believe in Santa (2002)_>, <Movie id:0442842[http] title:_The Simpsons: Skateboarding (2002) (VG)_>, <Movie id:0940929[http] title:_Rugrats: Royal Ransom (2002) (VG)_>, <Movie id:8732300[http] title:_Friends Are Forever: Tales of the Little Princess (2001)_>, <Movie id:0323983[http] title:_The Simpsons: Road Rage (2001) (VG)_>, <Movie id:0310232[http] title:_Timber Wolf (2001)_>, <Movie id:7880380[http] title:_Rugrats: All Growed Up (2001) (VG)_>, <Movie id:0282976[http] title:_The Simpsons: Wrestling (2001) (VG)_>, <Movie id:0221751[http] title:_\"God, the Devil and Bob\" (2000)_>, <Movie id:4755988[http] title:_Putt-Putt Joins the Circus (2000) (VG)_>, <Movie id:0235589[http] title:_\"Mike, Lu & Og\" (1999)_>, <Movie id:0857264[http] title:_Simpsons Bowling (1999) (VG)_>, <Movie id:0164226[http] title:_Animaniacs: Wakko\\'s Wish (1999)_>, <Movie id:0170996[http] title:_\"Pinky, Elmyra & the Brain (1998-1999)\" (None)_>, <Movie id:0063951[http] title:_\"Sesame Street (1992-1999)\" (None)_>, <Movie id:0177455[http] title:_\"Oh Yeah! Cartoons\" (1998)_>, <Movie id:6328220[http] title:_Animaniacs: Ten Pin Alley (1998) (VG)_>, <Movie id:0167247[http] title:_The Land Before Time VI: The Secret of Saurus Rock (1998)_>, <Movie id:0112123[http] title:_\"Pinky and the Brain\" (1998)_>, <Movie id:0181266[http] title:_\"The Cartoon Cartoon Show\" (1998)_>, <Movie id:0144262[http] title:_The Jungle Book: Mowgli\\'s Story (1998)_>, <Movie id:0120685[http] title:_Godzilla (I) (1998)_>, <Movie id:0143068[http] title:_\"Toonsylvania\" (1998)_>, <Movie id:3231722[http] title:_Putt-Putt Enters the Race (1998) (VG)_>, <Movie id:0158958[http] title:_The Simpsons: Virtual Springfield (1997) (VG)_>, <Movie id:0178807[http] title:_PJ Bunny: A Very Cool Easter (1997)_>, <Movie id:0170637[http] title:_Suddenly (1996) (TV)_>, <Movie id:0105941[http] title:_\"Animaniacs (1993-1996)\" (None)_>, <Movie id:0117832[http] title:_Vows of Deception (1996) (TV)_>, <Movie id:2388641[http] title:_Around the World with Timon & Pumbaa (1996)_>, <Movie id:0455764[http] title:_The Simpsons: Cartoon Studio (1996) (VG)_>, <Movie id:0115128[http] title:_\"The Spooktacular New Adventures of Casper\" (1996)_>, <Movie id:0179618[http] title:_\"The Twisted Tales of Felix the Cat\" (1995)_>, <Movie id:0111892[http] title:_\"Baywatch Nights\" (1995)_>, <Movie id:0112197[http] title:_\"Timon & Pumbaa\" (1995)_>, <Movie id:0108734[http] title:_\"The Critic (1994-1995)\" (None)_>, <Movie id:0098800[http] title:_\"The Fresh Prince of Bel-Air\" (1995)_>, <Movie id:0455833[http] title:_Virtual Bart (1994) (VG)_>, <Movie id:0207838[http] title:_Yakko\\'s World: An Animaniacs Singalong (1994)_>, <Movie id:0105935[http] title:_\"Aladdin\" (1994)_>, <Movie id:0319463[http] title:_The Great O\\'Grady (1993)_>, <Movie id:0075471[http] title:_\"ABC Weekend Specials (1984-1993)\" (None)_>, <Movie id:0213334[http] title:_\"Bonkers\" (1993)_>, <Movie id:0106105[http] title:_\"Problem Child\" (1993)_>, <Movie id:0107869[http] title:_Precious Victims (1993) (TV)_>, <Movie id:0222518[http] title:_\"Adventures of Sonic the Hedgehog\" (1993)_>, <Movie id:0103428[http] title:_\"Goof Troop\" (1992)_>, <Movie id:0243933[http] title:_Goof Troop Christmas (1992) (TV)_>, <Movie id:0179604[http] title:_\"Raw Toonage\" (1992)_>, <Movie id:0198254[http] title:_\"Tom & Jerry Kids Show\" (1992)_>, <Movie id:0427866[http] title:_The Simpsons: Bart\\'s Nightmare (1992) (VG)_>, <Movie id:0105129[http] title:_Petal to the Metal (1992)_>, <Movie id:0255006[http] title:_Michael Jackson: Black or White (1991)_>, <Movie id:0296852[http] title:_The Simpsons (1991) (VG)_>, <Movie id:1042247[http] title:_Big Bird\\'s Birthday or Let Me Eat Cake (1991) (TV)_>, <Movie id:6143884[http] title:_Bart Simpson: Deep Deep Trouble (1991)_>, <Movie id:0421687[http] title:_The Simpsons: Bart vs. the Space Mutants (1991) (VG)_>, <Movie id:1889386[http] title:_Bart Simpson: Do the Bartman (1990)_>, <Movie id:0103373[http] title:_\"Bobby\\'s World\" (1990)_>, <Movie id:0444586[http] title:_\"Timeless Tales from Hallmark\" (1990)_>, <Movie id:1424078[http] title:_The Yum Yums: The Day Things Went Sour (1990) (TV)_>, <Movie id:0439812[http] title:_The Simpsons: Family Therapy (1989)_>, <Movie id:0096787[http] title:_All Dogs Go to Heaven (1989)_>, <Movie id:0097757[http] title:_The Little Mermaid (1989)_>, <Movie id:0190904[http] title:_\"Fantastic Max (1988-1989)\" (None)_>, <Movie id:0096842[http] title:_Asterix and the Big Fight (1989)_>, <Movie id:0213340[http] title:_\"Dink, the Little Dinosaur\" (1989)_>, <Movie id:0104740[http] title:_Little Nemo: Adventures in Slumberland (1989)_>, <Movie id:0092469[http] title:_\"The Tracey Ullman Show (1987-1989)\" (None)_>, <Movie id:0094455[http] title:_\"Empty Nest\" (1989)_>, <Movie id:0094561[http] title:_\"TV 101\" (1989)_>, <Movie id:0446466[http] title:_The Simpsons: Family Portrait (1988)_>, <Movie id:0086802[http] title:_\"Snorks (1984-1988)\" (None)_>, <Movie id:0213370[http] title:_\"Superman\" (1988)_>, <Movie id:1058512[http] title:_The Canterville Ghost (1988) (TV)_>, <Movie id:0096438[http] title:_Who Framed Roger Rabbit (1988)_>, <Movie id:0095894[http] title:_Pound Puppies and the Legend of Big Paw (1988)_>, <Movie id:0090503[http] title:_\"Pound Puppies (1986-1987)\" (None)_>, <Movie id:0088576[http] title:_\"Mr. Belvedere\" (1987)_>, <Movie id:0252162[http] title:_\"Popeye and Son\" (1987)_>, <Movie id:0092752[http] title:_The Chipmunk Adventure (1987)_>, <Movie id:6142346[http] title:_The Simpsons: Good Night (1987)_>, <Movie id:0090496[http] title:_\"Our House\" (1987)_>, <Movie id:1051215[http] title:_Christmas Every Day (1986) (TV)_>, <Movie id:0229405[http] title:_\"Galaxy High School\" (1986)_>, <Movie id:0184761[http] title:_\"My Little Pony \\'n Friends\" (1986)_>, <Movie id:0352057[http] title:_\"The Glo Friends\" (1986)_>, <Movie id:0091584[http] title:_My Little Pony: The Movie (1986)_>, <Movie id:0055683[http] title:_\"The Jetsons\" (1985)_>, <Movie id:0084972[http] title:_\"Alvin & the Chipmunks (1984-1985)\" (None)_>, <Movie id:0083399[http] title:_\"Cheers\" (1985)_>, <Movie id:0090403[http] title:_\"Bridges to Cross\" (1985)_>, <Movie id:0095233[http] title:_Going Undercover (1985)_>, <Movie id:0089153[http] title:_Flesh+Blood (1985)_>, <Movie id:0089264[http] title:_Heaven Help Us (1985)_>, <Movie id:0089705[http] title:_Not My Kid (1985) (TV)_>, <Movie id:1219699[http] title:_My Little Pony (1984) (TV)_>, <Movie id:0083412[http] title:_\"Fame (1983-1984)\" (None)_>, <Movie id:0085090[http] title:_\"Shirt Tales\" (1983)_>, <Movie id:0085008[http] title:_\"Saturday Supercade\" (1983)_>, <Movie id:0086491[http] title:_Twilight Zone: The Movie (1983)_>, <Movie id:0085410[http] title:_Deadly Lessons (1983) (TV)_>, <Movie id:0144065[http] title:_\"Ri¢hie Ri¢h\" (1982)_>, <Movie id:0083497[http] title:_\"Tucker\\'s Witch\" (1982)_>, <Movie id:0084613[http] title:_The Rules of Marriage (1982) (TV)_>, <Movie id:0084305[http] title:_Marian Rose White (1982) (TV)_>, <Movie id:0083090[http] title:_Skokie (1981) (TV)_>, <Movie id:0080266[http] title:_\"The Ri¢hie Ri¢h/Scooby-Doo Show\" (1980)_>, <Movie id:0168391[http] title:_\"The Adventures of Tom Sawyer\" (1980)_>] is not a Movie, Person, Character or Company instance',); kwds: {}\n",
      "NoneType: None\n"
     ]
    },
    {
     "ename": "IMDbError",
     "evalue": "object [<Movie id:6951546[http] title:_\"Animaniacs\" (2020)_>, <Movie id:6816026[http] title:_Untitled Ren & Stimpy Short () (None)_>, <Movie id:7979492[http] title:_Kim Possible (2019) (TV)_>, <Movie id:0096697[http] title:_\"The Simpsons (1989-2019)\" (None)_>, <Movie id:7485592[http] title:_\"Top Wing (2017-2018)\" (None)_>, <Movie id:4801232[http] title:_In Search of Fellini (2017)_>, <Movie id:6157320[http] title:_Planet of the Couches (2016) (TV)_>, <Movie id:4047786[http] title:_Lennon (2015)_>, <Movie id:1780441[http] title:_\"Portlandia\" (2015)_>, <Movie id:0182576[http] title:_\"Family Guy (2005-2014)\" (None)_>, <Movie id:4042474[http] title:_The Simpsons Take the Bowl (2014)_>, <Movie id:2219622[http] title:_\"The 7D\" (2014)_>, <Movie id:0397306[http] title:_\"American Dad!\" (2013)_>, <Movie id:0478960[http] title:_\"The Zula Patrol\" (2012)_>, <Movie id:2902600[http] title:_The Simpsons: Tapped Out (2012) (VG)_>, <Movie id:0458250[http] title:_\"Betsy's Kindergarten Adventures (2007-2010)\" (None)_>, <Movie id:1195935[http] title:_\"The Cleveland Show\" (2010)_>, <Movie id:0816401[http] title:_\"The Replacements (2006-2009)\" (None)_>, <Movie id:0387714[http] title:_\"All Grown Up! (2003-2008)\" (None)_>, <Movie id:1227537[http] title:_The Simpsons Ride (2008)_>, <Movie id:1169167[http] title:_Struck (2008)_>, <Movie id:0890874[http] title:_\"Random! Cartoons\" (2007)_>, <Movie id:1139628[http] title:_The Simpsons Game (2007) (VG)_>, <Movie id:0278866[http] title:_\"Kim Possible (2002-2007)\" (None)_>, <Movie id:0462538[http] title:_The Simpsons Movie (2007)_>, <Movie id:1051930[http] title:_The Disney Channel Games (2007)_>, <Movie id:0285331[http] title:_\"24\" (2007)_>, <Movie id:0101188[http] title:_\"Rugrats (1992-2006)\" (None)_>, <Movie id:0486761[http] title:_Leroy & Stitch (2006)_>, <Movie id:0364774[http] title:_\"Lilo & Stitch: The Series (2003-2005)\" (None)_>, <Movie id:0446724[http] title:_Kim Possible: So the Drama (2005) (TV)_>, <Movie id:0809458[http] title:_The Simpsons' Christmas Message (2004)_>, <Movie id:1910568[http] title:_Kim Possible: The Villain Files (2004)_>, <Movie id:2353961[http] title:_Disney Channel Hits: Take 1 (2004)_>, <Movie id:0934486[http] title:_Kim Possible 2: Drakken's Demise (2004) (VG)_>, <Movie id:0389074[http] title:_Kim Possible: A Sitch in Time (2003) (TV)_>, <Movie id:2087893[http] title:_Nickelodeon Toon Twister 3D (2003) (VG)_>, <Movie id:0386789[http] title:_The Simpsons: Hit & Run (2003) (VG)_>, <Movie id:0337711[http] title:_Rugrats Go Wild (2003)_>, <Movie id:0341543[http] title:_Rapsittie Street Kids: Believe in Santa (2002)_>, <Movie id:0442842[http] title:_The Simpsons: Skateboarding (2002) (VG)_>, <Movie id:0940929[http] title:_Rugrats: Royal Ransom (2002) (VG)_>, <Movie id:8732300[http] title:_Friends Are Forever: Tales of the Little Princess (2001)_>, <Movie id:0323983[http] title:_The Simpsons: Road Rage (2001) (VG)_>, <Movie id:0310232[http] title:_Timber Wolf (2001)_>, <Movie id:7880380[http] title:_Rugrats: All Growed Up (2001) (VG)_>, <Movie id:0282976[http] title:_The Simpsons: Wrestling (2001) (VG)_>, <Movie id:0221751[http] title:_\"God, the Devil and Bob\" (2000)_>, <Movie id:4755988[http] title:_Putt-Putt Joins the Circus (2000) (VG)_>, <Movie id:0235589[http] title:_\"Mike, Lu & Og\" (1999)_>, <Movie id:0857264[http] title:_Simpsons Bowling (1999) (VG)_>, <Movie id:0164226[http] title:_Animaniacs: Wakko's Wish (1999)_>, <Movie id:0170996[http] title:_\"Pinky, Elmyra & the Brain (1998-1999)\" (None)_>, <Movie id:0063951[http] title:_\"Sesame Street (1992-1999)\" (None)_>, <Movie id:0177455[http] title:_\"Oh Yeah! Cartoons\" (1998)_>, <Movie id:6328220[http] title:_Animaniacs: Ten Pin Alley (1998) (VG)_>, <Movie id:0167247[http] title:_The Land Before Time VI: The Secret of Saurus Rock (1998)_>, <Movie id:0112123[http] title:_\"Pinky and the Brain\" (1998)_>, <Movie id:0181266[http] title:_\"The Cartoon Cartoon Show\" (1998)_>, <Movie id:0144262[http] title:_The Jungle Book: Mowgli's Story (1998)_>, <Movie id:0120685[http] title:_Godzilla (I) (1998)_>, <Movie id:0143068[http] title:_\"Toonsylvania\" (1998)_>, <Movie id:3231722[http] title:_Putt-Putt Enters the Race (1998) (VG)_>, <Movie id:0158958[http] title:_The Simpsons: Virtual Springfield (1997) (VG)_>, <Movie id:0178807[http] title:_PJ Bunny: A Very Cool Easter (1997)_>, <Movie id:0170637[http] title:_Suddenly (1996) (TV)_>, <Movie id:0105941[http] title:_\"Animaniacs (1993-1996)\" (None)_>, <Movie id:0117832[http] title:_Vows of Deception (1996) (TV)_>, <Movie id:2388641[http] title:_Around the World with Timon & Pumbaa (1996)_>, <Movie id:0455764[http] title:_The Simpsons: Cartoon Studio (1996) (VG)_>, <Movie id:0115128[http] title:_\"The Spooktacular New Adventures of Casper\" (1996)_>, <Movie id:0179618[http] title:_\"The Twisted Tales of Felix the Cat\" (1995)_>, <Movie id:0111892[http] title:_\"Baywatch Nights\" (1995)_>, <Movie id:0112197[http] title:_\"Timon & Pumbaa\" (1995)_>, <Movie id:0108734[http] title:_\"The Critic (1994-1995)\" (None)_>, <Movie id:0098800[http] title:_\"The Fresh Prince of Bel-Air\" (1995)_>, <Movie id:0455833[http] title:_Virtual Bart (1994) (VG)_>, <Movie id:0207838[http] title:_Yakko's World: An Animaniacs Singalong (1994)_>, <Movie id:0105935[http] title:_\"Aladdin\" (1994)_>, <Movie id:0319463[http] title:_The Great O'Grady (1993)_>, <Movie id:0075471[http] title:_\"ABC Weekend Specials (1984-1993)\" (None)_>, <Movie id:0213334[http] title:_\"Bonkers\" (1993)_>, <Movie id:0106105[http] title:_\"Problem Child\" (1993)_>, <Movie id:0107869[http] title:_Precious Victims (1993) (TV)_>, <Movie id:0222518[http] title:_\"Adventures of Sonic the Hedgehog\" (1993)_>, <Movie id:0103428[http] title:_\"Goof Troop\" (1992)_>, <Movie id:0243933[http] title:_Goof Troop Christmas (1992) (TV)_>, <Movie id:0179604[http] title:_\"Raw Toonage\" (1992)_>, <Movie id:0198254[http] title:_\"Tom & Jerry Kids Show\" (1992)_>, <Movie id:0427866[http] title:_The Simpsons: Bart's Nightmare (1992) (VG)_>, <Movie id:0105129[http] title:_Petal to the Metal (1992)_>, <Movie id:0255006[http] title:_Michael Jackson: Black or White (1991)_>, <Movie id:0296852[http] title:_The Simpsons (1991) (VG)_>, <Movie id:1042247[http] title:_Big Bird's Birthday or Let Me Eat Cake (1991) (TV)_>, <Movie id:6143884[http] title:_Bart Simpson: Deep Deep Trouble (1991)_>, <Movie id:0421687[http] title:_The Simpsons: Bart vs. the Space Mutants (1991) (VG)_>, <Movie id:1889386[http] title:_Bart Simpson: Do the Bartman (1990)_>, <Movie id:0103373[http] title:_\"Bobby's World\" (1990)_>, <Movie id:0444586[http] title:_\"Timeless Tales from Hallmark\" (1990)_>, <Movie id:1424078[http] title:_The Yum Yums: The Day Things Went Sour (1990) (TV)_>, <Movie id:0439812[http] title:_The Simpsons: Family Therapy (1989)_>, <Movie id:0096787[http] title:_All Dogs Go to Heaven (1989)_>, <Movie id:0097757[http] title:_The Little Mermaid (1989)_>, <Movie id:0190904[http] title:_\"Fantastic Max (1988-1989)\" (None)_>, <Movie id:0096842[http] title:_Asterix and the Big Fight (1989)_>, <Movie id:0213340[http] title:_\"Dink, the Little Dinosaur\" (1989)_>, <Movie id:0104740[http] title:_Little Nemo: Adventures in Slumberland (1989)_>, <Movie id:0092469[http] title:_\"The Tracey Ullman Show (1987-1989)\" (None)_>, <Movie id:0094455[http] title:_\"Empty Nest\" (1989)_>, <Movie id:0094561[http] title:_\"TV 101\" (1989)_>, <Movie id:0446466[http] title:_The Simpsons: Family Portrait (1988)_>, <Movie id:0086802[http] title:_\"Snorks (1984-1988)\" (None)_>, <Movie id:0213370[http] title:_\"Superman\" (1988)_>, <Movie id:1058512[http] title:_The Canterville Ghost (1988) (TV)_>, <Movie id:0096438[http] title:_Who Framed Roger Rabbit (1988)_>, <Movie id:0095894[http] title:_Pound Puppies and the Legend of Big Paw (1988)_>, <Movie id:0090503[http] title:_\"Pound Puppies (1986-1987)\" (None)_>, <Movie id:0088576[http] title:_\"Mr. Belvedere\" (1987)_>, <Movie id:0252162[http] title:_\"Popeye and Son\" (1987)_>, <Movie id:0092752[http] title:_The Chipmunk Adventure (1987)_>, <Movie id:6142346[http] title:_The Simpsons: Good Night (1987)_>, <Movie id:0090496[http] title:_\"Our House\" (1987)_>, <Movie id:1051215[http] title:_Christmas Every Day (1986) (TV)_>, <Movie id:0229405[http] title:_\"Galaxy High School\" (1986)_>, <Movie id:0184761[http] title:_\"My Little Pony 'n Friends\" (1986)_>, <Movie id:0352057[http] title:_\"The Glo Friends\" (1986)_>, <Movie id:0091584[http] title:_My Little Pony: The Movie (1986)_>, <Movie id:0055683[http] title:_\"The Jetsons\" (1985)_>, <Movie id:0084972[http] title:_\"Alvin & the Chipmunks (1984-1985)\" (None)_>, <Movie id:0083399[http] title:_\"Cheers\" (1985)_>, <Movie id:0090403[http] title:_\"Bridges to Cross\" (1985)_>, <Movie id:0095233[http] title:_Going Undercover (1985)_>, <Movie id:0089153[http] title:_Flesh+Blood (1985)_>, <Movie id:0089264[http] title:_Heaven Help Us (1985)_>, <Movie id:0089705[http] title:_Not My Kid (1985) (TV)_>, <Movie id:1219699[http] title:_My Little Pony (1984) (TV)_>, <Movie id:0083412[http] title:_\"Fame (1983-1984)\" (None)_>, <Movie id:0085090[http] title:_\"Shirt Tales\" (1983)_>, <Movie id:0085008[http] title:_\"Saturday Supercade\" (1983)_>, <Movie id:0086491[http] title:_Twilight Zone: The Movie (1983)_>, <Movie id:0085410[http] title:_Deadly Lessons (1983) (TV)_>, <Movie id:0144065[http] title:_\"Ri¢hie Ri¢h\" (1982)_>, <Movie id:0083497[http] title:_\"Tucker's Witch\" (1982)_>, <Movie id:0084613[http] title:_The Rules of Marriage (1982) (TV)_>, <Movie id:0084305[http] title:_Marian Rose White (1982) (TV)_>, <Movie id:0083090[http] title:_Skokie (1981) (TV)_>, <Movie id:0080266[http] title:_\"The Ri¢hie Ri¢h/Scooby-Doo Show\" (1980)_>, <Movie id:0168391[http] title:_\"The Adventures of Tom Sawyer\" (1980)_>] is not a Movie, Person, Character or Company instance",
     "output_type": "error",
     "traceback": [
      "\u001b[1;31m---------------------------------------------------------------------------\u001b[0m",
      "\u001b[1;31mIMDbError\u001b[0m                                 Traceback (most recent call last)",
      "\u001b[1;32m<ipython-input-43-3a4d589623e6>\u001b[0m in \u001b[0;36m<module>\u001b[1;34m()\u001b[0m\n\u001b[1;32m----> 1\u001b[1;33m \u001b[0mia\u001b[0m\u001b[1;33m.\u001b[0m\u001b[0mupdate\u001b[0m\u001b[1;33m(\u001b[0m\u001b[0me\u001b[0m\u001b[1;33m,\u001b[0m \u001b[1;34m'episodes'\u001b[0m\u001b[1;33m)\u001b[0m\u001b[1;33m\u001b[0m\u001b[0m\n\u001b[0m",
      "\u001b[1;32m~\\Anaconda3\\lib\\site-packages\\imdb\\__init__.py\u001b[0m in \u001b[0;36mupdate\u001b[1;34m(self, mop, info, override)\u001b[0m\n\u001b[0;32m    668\u001b[0m         \u001b[1;32melse\u001b[0m\u001b[1;33m:\u001b[0m\u001b[1;33m\u001b[0m\u001b[0m\n\u001b[0;32m    669\u001b[0m             raise IMDbError('object ' + repr(mop) +\n\u001b[1;32m--> 670\u001b[1;33m                             ' is not a Movie, Person, Character or Company instance')\n\u001b[0m\u001b[0;32m    671\u001b[0m         \u001b[1;32mif\u001b[0m \u001b[0mmopID\u001b[0m \u001b[1;32mis\u001b[0m \u001b[1;32mNone\u001b[0m\u001b[1;33m:\u001b[0m\u001b[1;33m\u001b[0m\u001b[0m\n\u001b[0;32m    672\u001b[0m             \u001b[1;31m# XXX: enough?  It's obvious that there are Characters\u001b[0m\u001b[1;33m\u001b[0m\u001b[1;33m\u001b[0m\u001b[0m\n",
      "\u001b[1;31mIMDbError\u001b[0m: object [<Movie id:6951546[http] title:_\"Animaniacs\" (2020)_>, <Movie id:6816026[http] title:_Untitled Ren & Stimpy Short () (None)_>, <Movie id:7979492[http] title:_Kim Possible (2019) (TV)_>, <Movie id:0096697[http] title:_\"The Simpsons (1989-2019)\" (None)_>, <Movie id:7485592[http] title:_\"Top Wing (2017-2018)\" (None)_>, <Movie id:4801232[http] title:_In Search of Fellini (2017)_>, <Movie id:6157320[http] title:_Planet of the Couches (2016) (TV)_>, <Movie id:4047786[http] title:_Lennon (2015)_>, <Movie id:1780441[http] title:_\"Portlandia\" (2015)_>, <Movie id:0182576[http] title:_\"Family Guy (2005-2014)\" (None)_>, <Movie id:4042474[http] title:_The Simpsons Take the Bowl (2014)_>, <Movie id:2219622[http] title:_\"The 7D\" (2014)_>, <Movie id:0397306[http] title:_\"American Dad!\" (2013)_>, <Movie id:0478960[http] title:_\"The Zula Patrol\" (2012)_>, <Movie id:2902600[http] title:_The Simpsons: Tapped Out (2012) (VG)_>, <Movie id:0458250[http] title:_\"Betsy's Kindergarten Adventures (2007-2010)\" (None)_>, <Movie id:1195935[http] title:_\"The Cleveland Show\" (2010)_>, <Movie id:0816401[http] title:_\"The Replacements (2006-2009)\" (None)_>, <Movie id:0387714[http] title:_\"All Grown Up! (2003-2008)\" (None)_>, <Movie id:1227537[http] title:_The Simpsons Ride (2008)_>, <Movie id:1169167[http] title:_Struck (2008)_>, <Movie id:0890874[http] title:_\"Random! Cartoons\" (2007)_>, <Movie id:1139628[http] title:_The Simpsons Game (2007) (VG)_>, <Movie id:0278866[http] title:_\"Kim Possible (2002-2007)\" (None)_>, <Movie id:0462538[http] title:_The Simpsons Movie (2007)_>, <Movie id:1051930[http] title:_The Disney Channel Games (2007)_>, <Movie id:0285331[http] title:_\"24\" (2007)_>, <Movie id:0101188[http] title:_\"Rugrats (1992-2006)\" (None)_>, <Movie id:0486761[http] title:_Leroy & Stitch (2006)_>, <Movie id:0364774[http] title:_\"Lilo & Stitch: The Series (2003-2005)\" (None)_>, <Movie id:0446724[http] title:_Kim Possible: So the Drama (2005) (TV)_>, <Movie id:0809458[http] title:_The Simpsons' Christmas Message (2004)_>, <Movie id:1910568[http] title:_Kim Possible: The Villain Files (2004)_>, <Movie id:2353961[http] title:_Disney Channel Hits: Take 1 (2004)_>, <Movie id:0934486[http] title:_Kim Possible 2: Drakken's Demise (2004) (VG)_>, <Movie id:0389074[http] title:_Kim Possible: A Sitch in Time (2003) (TV)_>, <Movie id:2087893[http] title:_Nickelodeon Toon Twister 3D (2003) (VG)_>, <Movie id:0386789[http] title:_The Simpsons: Hit & Run (2003) (VG)_>, <Movie id:0337711[http] title:_Rugrats Go Wild (2003)_>, <Movie id:0341543[http] title:_Rapsittie Street Kids: Believe in Santa (2002)_>, <Movie id:0442842[http] title:_The Simpsons: Skateboarding (2002) (VG)_>, <Movie id:0940929[http] title:_Rugrats: Royal Ransom (2002) (VG)_>, <Movie id:8732300[http] title:_Friends Are Forever: Tales of the Little Princess (2001)_>, <Movie id:0323983[http] title:_The Simpsons: Road Rage (2001) (VG)_>, <Movie id:0310232[http] title:_Timber Wolf (2001)_>, <Movie id:7880380[http] title:_Rugrats: All Growed Up (2001) (VG)_>, <Movie id:0282976[http] title:_The Simpsons: Wrestling (2001) (VG)_>, <Movie id:0221751[http] title:_\"God, the Devil and Bob\" (2000)_>, <Movie id:4755988[http] title:_Putt-Putt Joins the Circus (2000) (VG)_>, <Movie id:0235589[http] title:_\"Mike, Lu & Og\" (1999)_>, <Movie id:0857264[http] title:_Simpsons Bowling (1999) (VG)_>, <Movie id:0164226[http] title:_Animaniacs: Wakko's Wish (1999)_>, <Movie id:0170996[http] title:_\"Pinky, Elmyra & the Brain (1998-1999)\" (None)_>, <Movie id:0063951[http] title:_\"Sesame Street (1992-1999)\" (None)_>, <Movie id:0177455[http] title:_\"Oh Yeah! Cartoons\" (1998)_>, <Movie id:6328220[http] title:_Animaniacs: Ten Pin Alley (1998) (VG)_>, <Movie id:0167247[http] title:_The Land Before Time VI: The Secret of Saurus Rock (1998)_>, <Movie id:0112123[http] title:_\"Pinky and the Brain\" (1998)_>, <Movie id:0181266[http] title:_\"The Cartoon Cartoon Show\" (1998)_>, <Movie id:0144262[http] title:_The Jungle Book: Mowgli's Story (1998)_>, <Movie id:0120685[http] title:_Godzilla (I) (1998)_>, <Movie id:0143068[http] title:_\"Toonsylvania\" (1998)_>, <Movie id:3231722[http] title:_Putt-Putt Enters the Race (1998) (VG)_>, <Movie id:0158958[http] title:_The Simpsons: Virtual Springfield (1997) (VG)_>, <Movie id:0178807[http] title:_PJ Bunny: A Very Cool Easter (1997)_>, <Movie id:0170637[http] title:_Suddenly (1996) (TV)_>, <Movie id:0105941[http] title:_\"Animaniacs (1993-1996)\" (None)_>, <Movie id:0117832[http] title:_Vows of Deception (1996) (TV)_>, <Movie id:2388641[http] title:_Around the World with Timon & Pumbaa (1996)_>, <Movie id:0455764[http] title:_The Simpsons: Cartoon Studio (1996) (VG)_>, <Movie id:0115128[http] title:_\"The Spooktacular New Adventures of Casper\" (1996)_>, <Movie id:0179618[http] title:_\"The Twisted Tales of Felix the Cat\" (1995)_>, <Movie id:0111892[http] title:_\"Baywatch Nights\" (1995)_>, <Movie id:0112197[http] title:_\"Timon & Pumbaa\" (1995)_>, <Movie id:0108734[http] title:_\"The Critic (1994-1995)\" (None)_>, <Movie id:0098800[http] title:_\"The Fresh Prince of Bel-Air\" (1995)_>, <Movie id:0455833[http] title:_Virtual Bart (1994) (VG)_>, <Movie id:0207838[http] title:_Yakko's World: An Animaniacs Singalong (1994)_>, <Movie id:0105935[http] title:_\"Aladdin\" (1994)_>, <Movie id:0319463[http] title:_The Great O'Grady (1993)_>, <Movie id:0075471[http] title:_\"ABC Weekend Specials (1984-1993)\" (None)_>, <Movie id:0213334[http] title:_\"Bonkers\" (1993)_>, <Movie id:0106105[http] title:_\"Problem Child\" (1993)_>, <Movie id:0107869[http] title:_Precious Victims (1993) (TV)_>, <Movie id:0222518[http] title:_\"Adventures of Sonic the Hedgehog\" (1993)_>, <Movie id:0103428[http] title:_\"Goof Troop\" (1992)_>, <Movie id:0243933[http] title:_Goof Troop Christmas (1992) (TV)_>, <Movie id:0179604[http] title:_\"Raw Toonage\" (1992)_>, <Movie id:0198254[http] title:_\"Tom & Jerry Kids Show\" (1992)_>, <Movie id:0427866[http] title:_The Simpsons: Bart's Nightmare (1992) (VG)_>, <Movie id:0105129[http] title:_Petal to the Metal (1992)_>, <Movie id:0255006[http] title:_Michael Jackson: Black or White (1991)_>, <Movie id:0296852[http] title:_The Simpsons (1991) (VG)_>, <Movie id:1042247[http] title:_Big Bird's Birthday or Let Me Eat Cake (1991) (TV)_>, <Movie id:6143884[http] title:_Bart Simpson: Deep Deep Trouble (1991)_>, <Movie id:0421687[http] title:_The Simpsons: Bart vs. the Space Mutants (1991) (VG)_>, <Movie id:1889386[http] title:_Bart Simpson: Do the Bartman (1990)_>, <Movie id:0103373[http] title:_\"Bobby's World\" (1990)_>, <Movie id:0444586[http] title:_\"Timeless Tales from Hallmark\" (1990)_>, <Movie id:1424078[http] title:_The Yum Yums: The Day Things Went Sour (1990) (TV)_>, <Movie id:0439812[http] title:_The Simpsons: Family Therapy (1989)_>, <Movie id:0096787[http] title:_All Dogs Go to Heaven (1989)_>, <Movie id:0097757[http] title:_The Little Mermaid (1989)_>, <Movie id:0190904[http] title:_\"Fantastic Max (1988-1989)\" (None)_>, <Movie id:0096842[http] title:_Asterix and the Big Fight (1989)_>, <Movie id:0213340[http] title:_\"Dink, the Little Dinosaur\" (1989)_>, <Movie id:0104740[http] title:_Little Nemo: Adventures in Slumberland (1989)_>, <Movie id:0092469[http] title:_\"The Tracey Ullman Show (1987-1989)\" (None)_>, <Movie id:0094455[http] title:_\"Empty Nest\" (1989)_>, <Movie id:0094561[http] title:_\"TV 101\" (1989)_>, <Movie id:0446466[http] title:_The Simpsons: Family Portrait (1988)_>, <Movie id:0086802[http] title:_\"Snorks (1984-1988)\" (None)_>, <Movie id:0213370[http] title:_\"Superman\" (1988)_>, <Movie id:1058512[http] title:_The Canterville Ghost (1988) (TV)_>, <Movie id:0096438[http] title:_Who Framed Roger Rabbit (1988)_>, <Movie id:0095894[http] title:_Pound Puppies and the Legend of Big Paw (1988)_>, <Movie id:0090503[http] title:_\"Pound Puppies (1986-1987)\" (None)_>, <Movie id:0088576[http] title:_\"Mr. Belvedere\" (1987)_>, <Movie id:0252162[http] title:_\"Popeye and Son\" (1987)_>, <Movie id:0092752[http] title:_The Chipmunk Adventure (1987)_>, <Movie id:6142346[http] title:_The Simpsons: Good Night (1987)_>, <Movie id:0090496[http] title:_\"Our House\" (1987)_>, <Movie id:1051215[http] title:_Christmas Every Day (1986) (TV)_>, <Movie id:0229405[http] title:_\"Galaxy High School\" (1986)_>, <Movie id:0184761[http] title:_\"My Little Pony 'n Friends\" (1986)_>, <Movie id:0352057[http] title:_\"The Glo Friends\" (1986)_>, <Movie id:0091584[http] title:_My Little Pony: The Movie (1986)_>, <Movie id:0055683[http] title:_\"The Jetsons\" (1985)_>, <Movie id:0084972[http] title:_\"Alvin & the Chipmunks (1984-1985)\" (None)_>, <Movie id:0083399[http] title:_\"Cheers\" (1985)_>, <Movie id:0090403[http] title:_\"Bridges to Cross\" (1985)_>, <Movie id:0095233[http] title:_Going Undercover (1985)_>, <Movie id:0089153[http] title:_Flesh+Blood (1985)_>, <Movie id:0089264[http] title:_Heaven Help Us (1985)_>, <Movie id:0089705[http] title:_Not My Kid (1985) (TV)_>, <Movie id:1219699[http] title:_My Little Pony (1984) (TV)_>, <Movie id:0083412[http] title:_\"Fame (1983-1984)\" (None)_>, <Movie id:0085090[http] title:_\"Shirt Tales\" (1983)_>, <Movie id:0085008[http] title:_\"Saturday Supercade\" (1983)_>, <Movie id:0086491[http] title:_Twilight Zone: The Movie (1983)_>, <Movie id:0085410[http] title:_Deadly Lessons (1983) (TV)_>, <Movie id:0144065[http] title:_\"Ri¢hie Ri¢h\" (1982)_>, <Movie id:0083497[http] title:_\"Tucker's Witch\" (1982)_>, <Movie id:0084613[http] title:_The Rules of Marriage (1982) (TV)_>, <Movie id:0084305[http] title:_Marian Rose White (1982) (TV)_>, <Movie id:0083090[http] title:_Skokie (1981) (TV)_>, <Movie id:0080266[http] title:_\"The Ri¢hie Ri¢h/Scooby-Doo Show\" (1980)_>, <Movie id:0168391[http] title:_\"The Adventures of Tom Sawyer\" (1980)_>] is not a Movie, Person, Character or Company instance"
     ]
    }
   ],
   "source": [
    "ia.update(e, 'episodes')"
   ]
  },
  {
   "cell_type": "code",
   "execution_count": null,
   "metadata": {},
   "outputs": [],
   "source": []
  }
 ],
 "metadata": {
  "kernelspec": {
   "display_name": "Python 3",
   "language": "python",
   "name": "python3"
  },
  "language_info": {
   "codemirror_mode": {
    "name": "ipython",
    "version": 3
   },
   "file_extension": ".py",
   "mimetype": "text/x-python",
   "name": "python",
   "nbconvert_exporter": "python",
   "pygments_lexer": "ipython3",
   "version": "3.6.5"
  }
 },
 "nbformat": 4,
 "nbformat_minor": 2
}
