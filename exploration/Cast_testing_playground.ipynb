{
 "cells": [
  {
   "cell_type": "code",
   "execution_count": 52,
   "metadata": {},
   "outputs": [],
   "source": [
    "import json\n",
    "import pandas as pd\n",
    "import datetime as dt\n",
    "from imdb import IMDb\n",
    "from imdb import helpers\n",
    "ia = IMDb()"
   ]
  },
  {
   "cell_type": "code",
   "execution_count": 53,
   "metadata": {},
   "outputs": [],
   "source": [
    "daria = '0118298'"
   ]
  },
  {
   "cell_type": "code",
   "execution_count": 54,
   "metadata": {},
   "outputs": [],
   "source": [
    "series = ia.get_movie(daria)"
   ]
  },
  {
   "cell_type": "code",
   "execution_count": 55,
   "metadata": {},
   "outputs": [
    {
     "data": {
      "text/plain": [
       "['cast',\n",
       " 'genres',\n",
       " 'runtimes',\n",
       " 'countries',\n",
       " 'country codes',\n",
       " 'language codes',\n",
       " 'color info',\n",
       " 'aspect ratio',\n",
       " 'sound mix',\n",
       " 'certificates',\n",
       " 'number of seasons',\n",
       " 'rating',\n",
       " 'votes',\n",
       " 'cover url',\n",
       " 'plot outline',\n",
       " 'languages',\n",
       " 'title',\n",
       " 'year',\n",
       " 'kind',\n",
       " 'series years',\n",
       " 'akas',\n",
       " 'seasons',\n",
       " 'writer',\n",
       " 'production companies',\n",
       " 'distributors',\n",
       " 'other companies',\n",
       " 'plot',\n",
       " 'canonical title',\n",
       " 'long imdb title',\n",
       " 'long imdb canonical title',\n",
       " 'smart canonical title',\n",
       " 'smart long imdb canonical title',\n",
       " 'full-size cover url']"
      ]
     },
     "execution_count": 55,
     "metadata": {},
     "output_type": "execute_result"
    }
   ],
   "source": [
    "series.keys()"
   ]
  },
  {
   "cell_type": "code",
   "execution_count": 56,
   "metadata": {},
   "outputs": [
    {
     "data": {
      "text/plain": [
       "[<Person id:0251550[http] name:_Eichler, Glenn_>,\n",
       " <Person id:0630437[http] name:_Nicoll, Peggy_>,\n",
       " <Person id:0076998[http] name:_Bernstein, Anne D._>]"
      ]
     },
     "execution_count": 56,
     "metadata": {},
     "output_type": "execute_result"
    }
   ],
   "source": [
    "series['writer']"
   ]
  },
  {
   "cell_type": "code",
   "execution_count": 31,
   "metadata": {},
   "outputs": [],
   "source": [
    "cast = series['cast']\n",
    "writer = series['writer']\n",
    "prod_company = series['production companies']\n",
    "distro = series['distributors']\n"
   ]
  },
  {
   "cell_type": "code",
   "execution_count": 59,
   "metadata": {},
   "outputs": [
    {
     "data": {
      "text/plain": [
       "[<Person id:0334935[http] name:_Grandstaff, Tracy_>,\n",
       " <Person id:0393812[http] name:_Hoopes, Wendy_>,\n",
       " <Person id:8814816[http] name:_Rebolledo, Julian_>,\n",
       " <Person id:0528717[http] name:_Lynn, John_>,\n",
       " <Person id:0581631[http] name:_Collins, Lisa Kathleen_>,\n",
       " <Person id:0860443[http] name:_Thompson, Marc_>,\n",
       " <Person id:0016474[http] name:_Albert, Ashley Paige_>,\n",
       " <Person id:0413670[http] name:_Jackson, Jessica Cydnee_>,\n",
       " <Person id:0327623[http] name:_Gonzalez, Alvaro J._>,\n",
       " <Person id:0237711[http] name:_Drew, Sarah_>,\n",
       " <Person id:0490725[http] name:_Laudani, Nora_>,\n",
       " <Person id:0403285[http] name:_Huppert, Steven_>,\n",
       " <Person id:0034309[http] name:_Arend, Geoffrey_>,\n",
       " <Person id:0359972[http] name:_Hankin, Russell_>,\n",
       " <Person id:0637114[http] name:_Novikoff, Tim_>,\n",
       " <Person id:0931447[http] name:_Williams, Paul_>,\n",
       " <Person id:0071583[http] name:_Bennett, Amy_>,\n",
       " <Person id:0268659[http] name:_Fasbender, Bart_>,\n",
       " <Person id:0930014[http] name:_Williams, Amir_>,\n",
       " <Person id:0097374[http] name:_Borrillo, Tom_>,\n",
       " <Person id:0455580[http] name:_Kingston, Katie_>,\n",
       " <Person id:0506879[http] name:_Lewis, Susie_>,\n",
       " <Person id:0267745[http] name:_Farmer, Evan_>,\n",
       " <Person id:0056896[http] name:_Barrera, Kiki_>,\n",
       " <Person id:0065527[http] name:_Becker, Merle_>,\n",
       " <Person id:0272248[http] name:_Ferdinand, Delon_>,\n",
       " <Person id:0469955[http] name:_Krasny, Lemon_>,\n",
       " <Person id:0828840[http] name:_Stevens, Wass_>,\n",
       " <Person id:0199823[http] name:_Daniels, Kevin_>,\n",
       " <Person id:0396891[http] name:_Houston, Sharon_>,\n",
       " <Person id:0952089[http] name:_Zaino, Jessica_>,\n",
       " <Person id:1284186[http] name:_Relly, Dave_>,\n",
       " <Person id:0009584[http] name:_Carin, Danielle_>,\n",
       " <Person id:0137190[http] name:_Carin, Nicole_>,\n",
       " <Person id:0770222[http] name:_Schatz, Ken_>,\n",
       " <Person id:0111275[http] name:_Brolsma, Cindy E._>,\n",
       " <Person id:0682923[http] name:_Pietropinto, Rita_>,\n",
       " <Person id:0869977[http] name:_Towler, Laurine_>,\n",
       " <Person id:0058294[http] name:_Barsky, Brett_>,\n",
       " <Person id:1120714[http] name:_Layne, Stefanie_>,\n",
       " <Person id:0292755[http] name:_Frederic, Patrick_>,\n",
       " <Person id:0068557[http] name:_Bell, Tracy Lee_>,\n",
       " <Person id:0283888[http] name:_Fogel, Eric_>,\n",
       " <Person id:8736694[http] name:_Tomasik, Michele_>,\n",
       " <Person id:0812090[http] name:_Soehner, Barbara_>,\n",
       " <Person id:0073421[http] name:_Berdahl, Sky_>,\n",
       " <Person id:0060108[http] name:_Bass, Stacy_>,\n",
       " <Person id:0100860[http] name:_Bowen, John_>,\n",
       " <Person id:0292957[http] name:_Fredric, Maggie_>,\n",
       " <Person id:0264919[http] name:_Fader, Sarah_>]"
      ]
     },
     "execution_count": 59,
     "metadata": {},
     "output_type": "execute_result"
    }
   ],
   "source": [
    "cast"
   ]
  },
  {
   "cell_type": "code",
   "execution_count": 61,
   "metadata": {},
   "outputs": [],
   "source": [
    "#ia.update(series, 'full credits')\n",
    "ia.update(series, 'episodes')\n",
    "\n",
    "episodes = helpers.sortedEpisodes(series)\n",
    "#ia.update(episodes[0], 'full credits')\n",
    "s = 0\n",
    "for i in episodes:\n",
    "    ia.update(episodes[s], 'full credits')\n",
    "    s = s+1\n",
    "\n",
    "\n",
    "\n"
   ]
  },
  {
   "cell_type": "code",
   "execution_count": 62,
   "metadata": {},
   "outputs": [
    {
     "data": {
      "text/plain": [
       "['title',\n",
       " 'kind',\n",
       " 'episode of',\n",
       " 'season',\n",
       " 'episode',\n",
       " 'rating',\n",
       " 'votes',\n",
       " 'original air date',\n",
       " 'year',\n",
       " 'plot',\n",
       " 'cast',\n",
       " 'canonical title',\n",
       " 'long imdb title',\n",
       " 'long imdb canonical title',\n",
       " 'smart canonical title',\n",
       " 'smart long imdb canonical title',\n",
       " 'long imdb episode title',\n",
       " 'series title',\n",
       " 'canonical series title',\n",
       " 'episode title',\n",
       " 'canonical episode title',\n",
       " 'smart canonical series title',\n",
       " 'smart canonical episode title']"
      ]
     },
     "execution_count": 62,
     "metadata": {},
     "output_type": "execute_result"
    }
   ],
   "source": [
    "episodes[4].keys()\n",
    "#series['episodes'][1][1].keys()"
   ]
  },
  {
   "cell_type": "code",
   "execution_count": 63,
   "metadata": {},
   "outputs": [],
   "source": [
    "episode = helpers.sortedEpisodes(series)"
   ]
  },
  {
   "cell_type": "code",
   "execution_count": 64,
   "metadata": {},
   "outputs": [
    {
     "data": {
      "text/plain": [
       "['title',\n",
       " 'kind',\n",
       " 'episode of',\n",
       " 'season',\n",
       " 'episode',\n",
       " 'rating',\n",
       " 'votes',\n",
       " 'original air date',\n",
       " 'year',\n",
       " 'plot',\n",
       " 'cast',\n",
       " 'canonical title',\n",
       " 'long imdb title',\n",
       " 'long imdb canonical title',\n",
       " 'smart canonical title',\n",
       " 'smart long imdb canonical title',\n",
       " 'long imdb episode title',\n",
       " 'series title',\n",
       " 'canonical series title',\n",
       " 'episode title',\n",
       " 'canonical episode title',\n",
       " 'smart canonical series title',\n",
       " 'smart canonical episode title']"
      ]
     },
     "execution_count": 64,
     "metadata": {},
     "output_type": "execute_result"
    }
   ],
   "source": [
    "episode[2].keys()"
   ]
  },
  {
   "cell_type": "code",
   "execution_count": 65,
   "metadata": {},
   "outputs": [
    {
     "data": {
      "text/plain": [
       "[<Person id:0034309[http] name:_Arend, Geoffrey_>,\n",
       " <Person id:0334935[http] name:_Grandstaff, Tracy_>,\n",
       " <Person id:0065527[http] name:_Becker, Merle_>,\n",
       " <Person id:0393812[http] name:_Hoopes, Wendy_>,\n",
       " <Person id:8814816[http] name:_Rebolledo, Julian_>,\n",
       " <Person id:0272248[http] name:_Ferdinand, Delon_>,\n",
       " <Person id:0581631[http] name:_Collins, Lisa Kathleen_>,\n",
       " <Person id:0292755[http] name:_Frederic, Patrick_>,\n",
       " <Person id:0396891[http] name:_Houston, Sharon_>,\n",
       " <Person id:0403285[http] name:_Huppert, Steven_>,\n",
       " <Person id:0658108[http] name:_Palmer, Amy_>,\n",
       " <Person id:0860443[http] name:_Thompson, Marc_>,\n",
       " <Person id:8736694[http] name:_Tomasik, Michele_>,\n",
       " <Person id:0327623[http] name:_Gonzalez, Alvaro J._>]"
      ]
     },
     "execution_count": 65,
     "metadata": {},
     "output_type": "execute_result"
    }
   ],
   "source": [
    "episode[2]['cast']"
   ]
  },
  {
   "cell_type": "code",
   "execution_count": 66,
   "metadata": {},
   "outputs": [
    {
     "data": {
      "text/plain": [
       "<Person id:0034309[http] name:_Arend, Geoffrey_>"
      ]
     },
     "execution_count": 66,
     "metadata": {},
     "output_type": "execute_result"
    }
   ],
   "source": [
    "ia.get_person('0034309')"
   ]
  },
  {
   "cell_type": "code",
   "execution_count": null,
   "metadata": {},
   "outputs": [],
   "source": []
  }
 ],
 "metadata": {
  "kernelspec": {
   "display_name": "Python 3",
   "language": "python",
   "name": "python3"
  },
  "language_info": {
   "codemirror_mode": {
    "name": "ipython",
    "version": 3
   },
   "file_extension": ".py",
   "mimetype": "text/x-python",
   "name": "python",
   "nbconvert_exporter": "python",
   "pygments_lexer": "ipython3",
   "version": "3.6.5"
  }
 },
 "nbformat": 4,
 "nbformat_minor": 2
}
